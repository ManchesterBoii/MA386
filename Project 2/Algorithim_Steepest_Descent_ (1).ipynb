{
 "cells": [
  {
   "cell_type": "markdown",
   "metadata": {
    "collapsed": false
   },
   "source": [
    "# Steepest Descent"
   ]
  },
  {
   "cell_type": "code",
   "execution_count": 1,
   "metadata": {
    "collapsed": false
   },
   "outputs": [
   ],
   "source": [
    "import numpy as np\n",
    "import matplotlib.pyplot as plt\n",
    "from sympy import *\n",
    "from numpy import linalg as LA\n",
    "from sympy import Matrix \n",
    "#found this last one on https://stackoverflow.com/questions/5889142/python-numpy-scipy-finding-the-null-space-of-a-matrix"
   ]
  },
  {
   "cell_type": "markdown",
   "metadata": {
    "collapsed": false
   },
   "source": [
    "# Problem 2.1 from section 12.2 in text"
   ]
  },
  {
   "cell_type": "markdown",
   "metadata": {
    "collapsed": false
   },
   "source": [
    "Use the steepest-descent method to minimize $f(x_1, x_2) = 4x_1^2 + 2x_2^2+4x_1 x_2 - 3x_1$ starting from the point $(2,2)^T$. "
   ]
  },
  {
   "cell_type": "code",
   "execution_count": 0,
   "metadata": {
    "collapsed": false
   },
   "outputs": [
   ],
   "source": [
   ]
  },
  {
   "cell_type": "code",
   "execution_count": 2,
   "metadata": {
    "collapsed": false
   },
   "outputs": [
   ],
   "source": [
    "x,y,z = symbols('x y z', real = True);"
   ]
  },
  {
   "cell_type": "markdown",
   "metadata": {
    "collapsed": false
   },
   "source": [
    "Input your function and x0 (as ```np.array([])```)"
   ]
  },
  {
   "cell_type": "code",
   "execution_count": 3,
   "metadata": {
    "collapsed": false
   },
   "outputs": [
   ],
   "source": [
    "f = .5*x**2-.5*z**2+4*x*y+3*x*z-2*y*z\n",
    "x0 = np.array([1,1,1])"
   ]
  },
  {
   "cell_type": "markdown",
   "metadata": {
    "collapsed": false
   },
   "source": [
    "Evaluate your function at $x_0$ using the lambdify function. "
   ]
  },
  {
   "cell_type": "code",
   "execution_count": 4,
   "metadata": {
    "collapsed": false
   },
   "outputs": [
    {
     "name": "stdout",
     "output_type": "stream",
     "text": [
      "5.0\n"
     ]
    }
   ],
   "source": [
    "eval_f = lambdify([x,y,z],f)\n",
    "f_at_pt = np.array(eval_f(x0[0], x0[1],x0[2]))\n",
    "print(f_at_pt)"
   ]
  },
  {
   "cell_type": "markdown",
   "metadata": {
    "collapsed": false
   },
   "source": [
    "Evaluate the gradient using the lambdify function as before."
   ]
  },
  {
   "cell_type": "code",
   "execution_count": 7,
   "metadata": {
    "collapsed": false
   },
   "outputs": [
    {
     "data": {
      "text/plain": [
       "array([8., 2., 0.])"
      ]
     },
     "execution_count": 7,
     "metadata": {
     },
     "output_type": "execute_result"
    }
   ],
   "source": [
    "grad = derive_by_array(f,(x,y,z))\n",
    "eval_grad = lambdify([x,y,z],grad)\n",
    "gradf = np.array(eval_grad(x0[0],x0[1],x0[2]))\n",
    "gradf"
   ]
  },
  {
   "cell_type": "markdown",
   "metadata": {
    "collapsed": false
   },
   "source": [
    "# Your Turn:"
   ]
  },
  {
   "cell_type": "markdown",
   "metadata": {
    "collapsed": false
   },
   "source": [
    "What is the descent direction $p$ for steepest descent? Set $p$ equal to what we discussed in class here. "
   ]
  },
  {
   "cell_type": "code",
   "execution_count": 6,
   "metadata": {
    "collapsed": false
   },
   "outputs": [
   ],
   "source": [
    "p=-gradf"
   ]
  },
  {
   "cell_type": "markdown",
   "metadata": {
    "collapsed": false
   },
   "source": [
    "Now, come up with a Steepest Descent algorithm that will solve the function above. Ensure you store your $x_i$ in a list. For example, you can start with ```x_values = []``` and append as you go through iterations with ```x_values.append(x)```. The solution is $(0.75, 0.75)$. Recall that your stopping condition is to check if the norm of the gradient is less than some tolerance (close to 0). To help you in your program, here is the alpha function we came up with last class:"
   ]
  },
  {
   "cell_type": "code",
   "execution_count": 7,
   "metadata": {
    "collapsed": false
   },
   "outputs": [
   ],
   "source": [
    "#line search to ensure that alpha is not too small\n",
    "def Check_Alpha(x, mu, p): \n",
    "    i = 0;  #initialize\n",
    "    alpha = 2**(-i) #multiplier\n",
    "    x_new = x+alpha* p \n",
    "    gradf = np.array(eval_grad(x[0],x[1],x[2]))\n",
    "    \n",
    "    while np.array(eval_f(x_new[0],x_new[1],x_new[2])) > np.array(eval_f(x[0],x[1],[x[2]]))+ mu* alpha* np.matmul(p, gradf):\n",
    "        i = i+1;\n",
    "        alpha = 2**(-i)\n",
    "        x_new = x + alpha* p \n",
    "    return alpha"
   ]
  },
  {
   "cell_type": "code",
   "execution_count": 8,
   "metadata": {
    "collapsed": false,
    "scrolled": true
   },
   "outputs": [
    {
     "data": {
      "text/plain": [
       "26.40075756488817"
      ]
     },
     "execution_count": 8,
     "metadata": {
     },
     "output_type": "execute_result"
    }
   ],
   "source": [
    "LA.norm(gradf)"
   ]
  },
  {
   "cell_type": "code",
   "execution_count": 9,
   "metadata": {
    "collapsed": false
   },
   "outputs": [
   ],
   "source": [
    "def Steepest_Descent(x, p, gradf, tol):\n",
    "    x_values=[]\n",
    "    while LA.norm(gradf)>tol:\n",
    "        #find my alpha via line search\n",
    "        alpha = Check_Alpha(x, .5, p)\n",
    "        x = x+alpha*p #update x\n",
    "        #update gradient with new x\n",
    "        gradf = np.array(eval_grad(x[0],x[1]))\n",
    "        p = -gradf\n",
    "        #Return your x values and append all them so you are showing all of them. See prompt\n",
    "        x_values.append(x)\n",
    "    return x_values"
   ]
  },
  {
   "cell_type": "code",
   "execution_count": 11,
   "metadata": {
    "collapsed": false
   },
   "outputs": [
    {
     "data": {
      "text/plain": [
       "[array([0.6875, 1.    ]),\n",
       " array([0.28125 , 0.578125]),\n",
       " array([0.0859375, 0.1484375]),\n",
       " array([ 0.515625 , -0.0859375]),\n",
       " array([ 0.41796875, -0.30078125]),\n",
       " array([ 0.6328125 , -0.41796875]),\n",
       " array([ 0.58398438, -0.52539062]),\n",
       " array([ 0.69140625, -0.58398438]),\n",
       " array([ 0.66699219, -0.63769531]),\n",
       " array([ 0.72070312, -0.66699219]),\n",
       " array([ 0.70849609, -0.69384766]),\n",
       " array([ 0.73535156, -0.70849609]),\n",
       " array([ 0.72924805, -0.72192383]),\n",
       " array([ 0.74267578, -0.72924805]),\n",
       " array([ 0.73962402, -0.73596191]),\n",
       " array([ 0.74633789, -0.73962402]),\n",
       " array([ 0.74481201, -0.74298096]),\n",
       " array([ 0.74816895, -0.74481201]),\n",
       " array([ 0.74740601, -0.74649048]),\n",
       " array([ 0.74908447, -0.74740601]),\n",
       " array([ 0.748703  , -0.74824524]),\n",
       " array([ 0.74954224, -0.748703  ]),\n",
       " array([ 0.7493515 , -0.74912262]),\n",
       " array([ 0.74977112, -0.7493515 ]),\n",
       " array([ 0.74967575, -0.74956131]),\n",
       " array([ 0.74988556, -0.74967575]),\n",
       " array([ 0.74983788, -0.74978065]),\n",
       " array([ 0.74994278, -0.74983788]),\n",
       " array([ 0.74991894, -0.74989033]),\n",
       " array([ 0.74997139, -0.74991894]),\n",
       " array([ 0.74995947, -0.74994516]),\n",
       " array([ 0.74998569, -0.74995947]),\n",
       " array([ 0.74997973, -0.74997258]),\n",
       " array([ 0.74999285, -0.74997973]),\n",
       " array([ 0.74998987, -0.74998629]),\n",
       " array([ 0.74999642, -0.74998987]),\n",
       " array([ 0.74999493, -0.74999315]),\n",
       " array([ 0.74999821, -0.74999493]),\n",
       " array([ 0.74999747, -0.74999657]),\n",
       " array([ 0.74999911, -0.74999747]),\n",
       " array([ 0.74999873, -0.74999829]),\n",
       " array([ 0.74999955, -0.74999873]),\n",
       " array([ 0.74999937, -0.74999914]),\n",
       " array([ 0.74999978, -0.74999937]),\n",
       " array([ 0.74999968, -0.74999957])]"
      ]
     },
     "execution_count": 11,
     "metadata": {
     },
     "output_type": "execute_result"
    }
   ],
   "source": [
    "x_values=Steepest_Descent(x0,p,gradf,.000001)\n",
    "x_values\n",
    "#must be named this due to plotting function calling it this"
   ]
  },
  {
   "cell_type": "markdown",
   "metadata": {
    "collapsed": false
   },
   "source": [
    "# Visualizing with Plot"
   ]
  },
  {
   "cell_type": "markdown",
   "metadata": {
    "collapsed": false
   },
   "source": [
    "Running the below code will plot your ```x_values``` based on what you got from your steepest descent algorithm."
   ]
  },
  {
   "cell_type": "code",
   "execution_count": 43,
   "metadata": {
    "collapsed": false
   },
   "outputs": [
   ],
   "source": [
    "#set up x1 and x2 values:\n",
    "x = np.linspace(-2.5, 2.5, 100)\n",
    "y = np.linspace(-2.5, 2.5, 100)\n",
    "X,Y = np.meshgrid(x, y) #creates all possibilities for x and y on which to plot the 3rd dimension\n",
    "f = 4*X**2+2*Y**2+4*X*Y-3*X"
   ]
  },
  {
   "cell_type": "code",
   "execution_count": 44,
   "metadata": {
    "collapsed": false
   },
   "outputs": [
    {
     "data": {
      "image/png": "[encoded data removed]",
      "text/plain": [
       "<Figure size 432x288 with 1 Axes>"
      ]
     },
     "execution_count": 44,
     "metadata": {
      "needs_background": "light"
     },
     "output_type": "execute_result"
    }
   ],
   "source": [
    "x_values = np.array(x_values) #convert to numpy array\n",
    "for i in range(len(x_values) - 1):\n",
    "    plt.annotate('', xy=x_values[i+1, :], xytext=x_values[i, :],arrowprops={'arrowstyle': '->', 'color': 'r', 'lw': 1},\n",
    "        va='center', ha='center') #annotates each arrow based on the row of the x_values\n",
    "cp = plt.contour(X, Y, f) #plots the contour map\n",
    "plt.clabel(cp, inline=1, fontsize=10) #labels the level curves\n",
    "plt.xlabel('X1')\n",
    "plt.ylabel('X2')\n",
    "plt.show()"
   ]
  },
  {
   "cell_type": "code",
   "execution_count": 0,
   "metadata": {
    "collapsed": false
   },
   "outputs": [
   ],
   "source": [
   ]
  }
 ],
 "metadata": {
  "kernelspec": {
   "display_name": "Python 3 (system-wide)",
   "language": "python",
   "metadata": {
    "cocalc": {
     "description": "Python 3 programming language",
     "priority": 100,
     "url": "https://www.python.org/"
    }
   },
   "name": "python3",
   "resource_dir": "/ext/jupyter/kernels/python3"
  },
  "language_info": {
   "codemirror_mode": {
    "name": "ipython",
    "version": 3
   },
   "file_extension": ".py",
   "mimetype": "text/x-python",
   "name": "python",
   "nbconvert_exporter": "python",
   "pygments_lexer": "ipython3",
   "version": "3.8.5"
  }
 },
 "nbformat": 4,
 "nbformat_minor": 4
}