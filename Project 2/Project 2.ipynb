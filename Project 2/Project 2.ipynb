{
 "cells": [
  {
   "cell_type": "code",
   "execution_count": 2,
   "metadata": {
    "collapsed": false
   },
   "outputs": [
   ],
   "source": [
    "import pandas as pd\n",
    "import numpy as np\n",
    "import matplotlib.pyplot as plt\n",
    "\n",
    "data = pd.read_csv(\"college_data.csv\")"
   ]
  },
  {
   "cell_type": "markdown",
   "metadata": {
    "collapsed": false
   },
   "source": [
    "# Problem 1"
   ]
  },
  {
   "cell_type": "code",
   "execution_count": 3,
   "metadata": {
    "collapsed": false
   },
   "outputs": [
   ],
   "source": [
    "from sympy import *\n",
    "from numpy import linalg as LA\n",
    "from sympy import Matrix\n",
    "#found this last one on https://stackoverflow.com/questions/5889142/python-numpy-scipy-finding-the-null-space-of-a-matrix"
   ]
  },
  {
   "cell_type": "code",
   "execution_count": 4,
   "metadata": {
    "collapsed": false
   },
   "outputs": [
   ],
   "source": [
    "#line search to ensure that alpha is not too small\n",
    "def Check_Alpha(x, mu, p, eval_grad):\n",
    "    '''\n",
    "    Theory-based dynamic alpha value calculator. This finds the alpha value via a line search.\n",
    "    Inputs:\n",
    "        x - point (x,y tuple)\n",
    "        mu - multiplier that acts as alpha when iterating to decide final alpha value (f(x2) = x1 + mu*p(x))\n",
    "        p - negative gradient vector of f at x\n",
    "        eval_grad - gradient function passed from MakeGraph function that takes the gradient of a vector\n",
    "    Outputs:\n",
    "        Returns appropriate alpha (step change) based on inputs\n",
    "    '''\n",
    "    i = 0  #initialize\n",
    "    alpha = 2**(-i) #multiplier\n",
    "    x_new = x+alpha*p  #initializes while loop\n",
    "    gradf = np.array(eval_grad(x[0],x[1])) #gradient\n",
    "    #While the function is greater than the function at the point is greater than the function + mu* alpha* np.matmul(p, gradf)\n",
    "    while np.array(eval_f(x_new[0],x_new[1])) > np.array(eval_f(x[0],x[1]))+ mu* alpha* np.matmul(p, gradf):\n",
    "        i += 1\n",
    "        alpha = 2**(-i)\n",
    "        x_new = x + alpha* p \n",
    "    return alpha"
   ]
  },
  {
   "cell_type": "code",
   "execution_count": 5,
   "metadata": {
    "collapsed": false
   },
   "outputs": [
   ],
   "source": [
    "def Steepest_Descent(x, p, gradf, tol, eval_grad):\n",
    "    '''\n",
    "    This is our algorithm! In very general terms, this function takes a function, a start point, and a tolerance level, and, using the \n",
    "    Steepest Descent algorithm, will figure out where the start point coverges to. \n",
    "    Inputs:\n",
    "        x - point (x,y tuple) \n",
    "        p - negative gradient vector of f at x\n",
    "        gradf - gradient vector of f\n",
    "        tol - how close do we need to be to the to the final point to get the algorithm to stop\n",
    "        eval_grad - gradient function passed from MakeGraph function that takes the gradient of a vector\n",
    "    Outputs:\n",
    "        Returns a list of tuples (x,y) that represent the points the algorithm travels to as it converges\n",
    "    '''\n",
    "    x_values=[]\n",
    "    x_values.append(x)\n",
    "    while LA.norm(gradf)>tol:\n",
    "        #find my alpha via line search\n",
    "        alpha = Check_Alpha(x, .5, p, eval_grad)\n",
    "\n",
    "        x = x+alpha*p #update x\n",
    "        #update gradient with new x\n",
    "        gradf = np.array(eval_grad(x[0],x[1]))\n",
    "        p = -gradf\n",
    "        #Return your x values and append all them so you are showing all of them. See prompt\n",
    "        x_values.append(x)\n",
    "    return x_values"
   ]
  },
  {
   "cell_type": "code",
   "execution_count": 6,
   "metadata": {
    "collapsed": false
   },
   "outputs": [
   ],
   "source": [
    "def Make_Graph():\n",
    "    '''\n",
    "    Inputs:\n",
    "        No parameters\n",
    "    Outputs:\n",
    "        This is a function designed to bring everything together! By running this function we should have a contour plot that\n",
    "        plots each point the Steepest Descent algorithm goes to as it converges. Essentially this is just plotting the list of tuples(x,y)\n",
    "        returned from the function Steepest_Descent onto a contour plot\n",
    "    '''\n",
    "    grad = derive_by_array(f, (x,y))\n",
    "    #Evaluate the gradient\n",
    "    eval_grad = lambdify([x,y],grad)\n",
    "    #Continue evaluating the gradient\n",
    "    gradf = np.array(eval_grad(x0[0],x0[1]))\n",
    "    p = -gradf\n",
    "    #This creates a list of the x values as we run steepest descent\n",
    "    values = Steepest_Descent(x0,p,gradf, 3, eval_grad)\n",
    "    #set up x1 and x2 values:\n",
    "    values = np.array(values) #convert to numpy array\n",
    "    for i in range(len(values)):\n",
    "        plt.scatter(values[i][0], values[i][1], s = 20, color = 'xkcd:ocean blue')\n",
    "        plt.text(values[i][0], values[i][1]+.1, f\"{i}\", color = 'r')\n",
    "    x_ = np.linspace(-4.5, 4.5, 100)\n",
    "    plt.xlim(-4,4)\n",
    "    y_ = np.linspace(-4.5, 4.5, 100)\n",
    "    plt.ylim(-4,4)\n",
    "    X,Y = np.meshgrid(x_, y_) #creates all possibilities for x and y on which to plot the 3rd dimension\n",
    "    Z = eval_f(X,Y)\n",
    "    cp = plt.contour(X, Y, Z) #plots the contour map\n",
    "    plt.clabel(cp, inline=1, fontsize=10) #labels the level curves\n",
    "    plt.xlabel('X')\n",
    "    plt.ylabel('Y')\n",
    "    plt.show()"
   ]
  },
  {
   "cell_type": "code",
   "execution_count": 7,
   "metadata": {
    "collapsed": false
   },
   "outputs": [
   ],
   "source": [
    "x,y = symbols('x y', real = True);\n",
    "eval_f = lambda x,y: -10*x**2*y+5*x**2+4*y**2+x**4+2*y**4 #for the purpose of evaluating the function strictly in python\n",
    "f = -10*x**2*y+5*x**2+4*y**2+x**4+2*y**4 #using sympy to make the same function\n",
    "x0 = np.array([-3,0])"
   ]
  },
  {
   "cell_type": "code",
   "execution_count": 8,
   "metadata": {
    "collapsed": false,
    "scrolled": true
   },
   "outputs": [
    {
     "data": {
      "image/png": "[encoded data removed]",
      "text/plain": "<Figure size 864x504 with 1 Axes>"
     },
     "metadata": {
      "image/png": {
       "height": 428,
       "width": 722
      },
      "needs_background": "light"
     }
    }
   ],
   "source": [
    "Make_Graph()"
   ]
  },
  {
   "cell_type": "markdown",
   "metadata": {
    "collapsed": false
   },
   "source": [
    "# Problem 2"
   ]
  },
  {
   "cell_type": "markdown",
   "metadata": {
    "collapsed": false
   },
   "source": [
    "### Part 1"
   ]
  },
  {
   "cell_type": "markdown",
   "metadata": {
    "collapsed": false
   },
   "source": [
   ]
  },
  {
   "cell_type": "code",
   "execution_count": 9,
   "metadata": {
    "cocalc": {
     "outputs": {
      "0": {
       "name": "input",
       "opts": {
        "password": false,
        "prompt": "What would you like to name this graph?"
       },
       "output_type": "stream",
       "value": "Application"
      },
      "1": {
       "name": "input",
       "opts": {
        "password": false,
        "prompt": "What would you like to name this graph?"
       },
       "output_type": "stream",
       "value": "Apps"
      }
     }
    },
    "collapsed": false
   },
   "outputs": [
    {
     "name": "stdout",
     "output_type": "stream",
     "text": "What would you like to name this graph? Application"
    },
    {
     "data": {
      "image/png": "[encoded data removed]",
      "text/plain": "<Figure size 864x504 with 1 Axes>"
     },
     "metadata": {
      "image/png": {
       "height": 446,
       "width": 740
      }
     }
    },
    {
     "name": "stdout",
     "output_type": "stream",
     "text": [
      "P(    0<=X<= 2000) = 0.5856\n",
      "P( 2000<=X<= 4000) = 0.1828\n",
      "P( 4000<=X<= 6000) = 0.0901\n",
      "P( 6000<=X<= 8000) = 0.0515\n",
      "P( 8000<=X<=10000) = 0.0322\n",
      "P(10000<=X<=12000) = 0.0142\n",
      "P(12000<=X<=14000) = 0.0167\n",
      "P(14000<=X<=16000) = 0.0167\n",
      "        P(X>16000) = 0.0090\n"
     ]
    }
   ],
   "source": [
    "def histogram(ser = data['Apps'], bin_width = 2000, tail = .009):\n",
    "    '''\n",
    "    Prints and displays a PDF table and graph for the input data\n",
    "    Inputs:\n",
    "        ser - a Pandas Series (or DataFrame column) of numerical data\n",
    "        bin_width - range to count observations into one bar\n",
    "        tail - percentage of data that is to the right of the distribution (as a decimal)\n",
    "    Outputs:\n",
    "        Does not return anything\n",
    "        Prints a PDF table and graph\n",
    "    '''\n",
    "    n = ser.size\n",
    "    ser = ser.sort_values()\n",
    "    ser.index = range(n)\n",
    "    new_n = int(n-n*tail)\n",
    "    plot_vals = ser[0:new_n]\n",
    "    i = 0\n",
    "    j = bin_width\n",
    "    plt.figure().set_facecolor('w'); plt.gca().set_facecolor('w')\n",
    "    to_print = []\n",
    "    while j < plot_vals.max():\n",
    "        prob = plot_vals[(plot_vals >= i)&(plot_vals < j)].count()/n\n",
    "        to_print.append(f\"P({i:>5.0f}<=X<={j:>5.0f}) = {prob:0.4f}\")\n",
    "        plt.bar(i, prob, width = bin_width, color = 'xkcd:ocean blue', edgecolor = 'black')\n",
    "        i = j\n",
    "        j += bin_width\n",
    "    plt.bar(i, plot_vals[(plot_vals >= i)&(plot_vals < j)].count()/n, width = bin_width, color = 'xkcd:ocean blue', edgecolor = 'black')\n",
    "    plt.bar(j, tail, width = bin_width, color = 'xkcd:ocean blue', edgecolor = 'black')\n",
    "    to_print.append(f\"        P(X>{i:.0f}) = {tail:0.4f}\")\n",
    "    plt.xticks([i for i in range(0,j+bin_width+1,2500)])\n",
    "    plt.title(input('What would you like to name this graph?'), size = 16)\n",
    "    plt.ylabel('Probablilty', size = 13); plt.xlabel('X', size = 13)\n",
    "    plt.show()\n",
    "    for x in to_print: print(x)\n",
    "\n",
    "histogram()"
   ]
  },
  {
   "cell_type": "markdown",
   "metadata": {
    "collapsed": false
   },
   "source": [
    "### Part 2"
   ]
  },
  {
   "cell_type": "code",
   "execution_count": 13,
   "metadata": {
    "collapsed": false
   },
   "outputs": [
    {
     "data": {
      "image/png": "[encoded data removed]",
      "text/plain": "<Figure size 864x504 with 1 Axes>"
     },
     "metadata": {
      "image/png": {
       "height": 440,
       "width": 756
      }
     },
     "output_type": "execute_result"
    }
   ],
   "source": [
    "def gauss_k(u):\n",
    "    '''\n",
    "    The Gaussian Kernel function\n",
    "    Inputs:\n",
    "        u - input to Gaussian kernel estimator\n",
    "    Outputs:\n",
    "        Returns value from Gaussian kernel estimator\n",
    "    '''\n",
    "    return (1/np.sqrt(2*np.pi))*np.exp((-1/2)*u**2)\n",
    "\n",
    "def f_hHat(x, data, h):\n",
    "    '''\n",
    "    Uses the given formula to return an estimate of f(x) using the kernel density estimator formula\n",
    "    Inputs:\n",
    "        x - value estimating at\n",
    "        data - ordered data to use for calculation\n",
    "        h - bandwidth\n",
    "    Outputs:\n",
    "        Returns the estimate of f_h(x)\n",
    "    '''\n",
    "    n = data.size\n",
    "    vals = []\n",
    "    for i in range(n): vals.append(gauss_k((x-data[i])/h))\n",
    "    return sum(vals)/(n*h)\n",
    "\n",
    "def kernelDensityEstimator(ser = data['Apps'], h = 1000):\n",
    "    '''\n",
    "    Plots the kernel density estimator function\n",
    "    Inputs:\n",
    "        ser - data\n",
    "        h - bandwidth\n",
    "    Outputs:\n",
    "        No return, plots the Kernel Density Estimator\n",
    "    '''\n",
    "    xVals = np.linspace(0,ser.max(), h)\n",
    "    yVals = []\n",
    "    ser = ser.sort_values()\n",
    "    for x in xVals: yVals.append(f_hHat(x, ser, h))\n",
    "    plt.figure().set_facecolor('w'); plt.gca().set_facecolor('w')\n",
    "    plt.title(\"Guassian Kernel Density Estimator\")\n",
    "    plt.xlabel(\"Applications\")\n",
    "    plt.ylabel(\"Density\")\n",
    "    plt.plot(xVals, yVals)\n",
    "\n",
    "kernelDensityEstimator()"
   ]
  }
 ],
 "metadata": {
  "kernelspec": {
   "display_name": "Python 3 (system-wide)",
   "language": "python",
   "metadata": {
    "cocalc": {
     "description": "Python 3 programming language",
     "priority": 100,
     "url": "https://www.python.org/"
    }
   },
   "name": "python3",
   "resource_dir": "/ext/jupyter/kernels/python3"
  },
  "language_info": {
   "codemirror_mode": {
    "name": "ipython",
    "version": 3
   },
   "file_extension": ".py",
   "mimetype": "text/x-python",
   "name": "python",
   "nbconvert_exporter": "python",
   "pygments_lexer": "ipython3",
   "version": "3.8.5"
  }
 },
 "nbformat": 4,
 "nbformat_minor": 4
}