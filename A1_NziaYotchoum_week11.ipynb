{
 "metadata": {
  "language_info": {
   "codemirror_mode": {
    "name": "ipython",
    "version": 3
   },
   "file_extension": ".py",
   "mimetype": "text/x-python",
   "name": "python",
   "nbconvert_exporter": "python",
   "pygments_lexer": "ipython3",
   "version": "3.8.6-final"
  },
  "orig_nbformat": 2,
  "kernelspec": {
   "name": "python38564bit7176352eb4854811a1e6a61134e4dd64",
   "display_name": "Python 3.8.5 64-bit"
  }
 },
 "nbformat": 4,
 "nbformat_minor": 2,
 "cells": [
  {
   "cell_type": "markdown",
   "metadata": {},
   "source": [
    "# Author: Huram-Abi Nzia Yotchoum\n",
    "## Week 11 : CARD TRICK (Lesson 24 Class Excercise)\n",
    "## Created on: 26 OCT 2020\n",
    "\n",
    " \n",
    "Assistance Received\n"
   ]
  },
  {
   "cell_type": "code",
   "execution_count": null,
   "metadata": {},
   "outputs": [],
   "source": [
    "import numpy as np"
   ]
  },
  {
   "cell_type": "markdown",
   "metadata": {},
   "source": [
    "## Card Object"
   ]
  },
  {
   "cell_type": "code",
   "execution_count": null,
   "metadata": {
    "tags": []
   },
   "outputs": [],
   "source": [
    "class Card():\n",
    "    def __init__(self, c):\n",
    "        fV = list(\"23456789TJQKA\")\n",
    "        fV[8] = \"10\"\n",
    "        nv = range(2,15)\n",
    "        if len(c)== 2:\n",
    "            self.fVal = c[0]\n",
    "            if self.fVal == 'T':\n",
    "               self.fVal = '10'\n",
    "            self.suit = c[1]\n",
    "        elif len(c) == 4:\n",
    "            self.fVal = c[0:2]\n",
    "            self.suit = c[2]\n",
    "        else:\n",
    "            self.fVal = '2'\n",
    "            self.suit = 'S'\n",
    "            print(\"Not correct format\")\n",
    "        self.nVal = nv[fV.index(self.fVal)]\n",
    "        self.bjVal = 10 if self.nVal >=10 else self.nVal\n",
    "        if self.nVal ==14:\n",
    "            self.bjVal = 11\n",
    "\n",
    "        s = list('SCHD')                   \n",
    "        suit_rank = s.index(self.suit)\n",
    "        self.rank = suit_rank*13+self.nVal\n",
    "    def __repr__(self):\n",
    "        return self.fVal + self.suit\n",
    "    def __str__(self):\n",
    "        return self.fVal + self.suit\n",
    "    def __lt__(self,other):\n",
    "        return self.rank < other.rank\n",
    "    def __gt__(self,other):\n",
    "        return self.rank > other.rank\n",
    "    def __sub__(self,other):\n",
    "        return self.rank - other.rank\n",
    "    def __eq__(self,other):\n",
    "        return self.rank == other.rank\n",
    "    def get_suit(self):\n",
    "        return self.suit "
   ]
  },
  {
   "cell_type": "code",
   "execution_count": null,
   "metadata": {
    "tags": []
   },
   "outputs": [],
   "source": [
    "class Deck():\n",
    "    def __init__(self):\n",
    "        self.cards = []\n",
    "        self.num_cards = 52\n",
    "        self.discards = []\n",
    "        fv = list(\"23456789TJQKA\")\n",
    "        sv = list('SCHD') \n",
    "        for f in fv:\n",
    "            for s in sv:\n",
    "                c = f+s\n",
    "                self.cards.append(Card(c))    \n",
    "        \n",
    "        self.shuffle()\n",
    "\n",
    "    def shuffle(self):\n",
    "        np.random.shuffle(self.cards)   \n",
    "\n",
    "    def __repr__(self):\n",
    "        return \",\".join([str(c) for c in self.cards])\n",
    "\n",
    "    def draw(self):\n",
    "        self.num_cards-=1\n",
    "        self.discards.append(self.cards[0])\n",
    "        card = self.cards[0]\n",
    "        del (self.cards[0])\n",
    "        return card\n",
    "    \n",
    "    def deal(self, hand, num_cards):\n",
    "        for i in range(num_cards):\n",
    "            hand.cards.append(self.draw())\n",
    "        return hand\n",
    "    \n",
    "    def __len__(self):\n",
    "        return len(self.cards)\n",
    "\n",
    "    def __str__(self):\n",
    "        return \"Cards in Deck\\n\" + \" \\n\".join([f\"{i}: {str(c)}\" for i,c in enumerate(self.cards)])+ '\\n' + \"Cards in Discard Pile\\n\" + \" \\n\".join([f\"{i}: {str(c)}\" for i,c in enumerate(self.discards)])\n",
    "\n",
    "    def __call__(self, other):\n",
    "        self.cards = []\n",
    "\n",
    "        for card in other:\n",
    "            self.cards.append(card)\n",
    "        \n"
   ]
  },
  {
   "cell_type": "code",
   "execution_count": null,
   "metadata": {},
   "outputs": [],
   "source": [
    "class Hand():\n",
    "    def __init__(self):\n",
    "        self.cards = []\n",
    "        self.num_cards = len(self.cards)\n",
    "    def __getitem__(self, key):\n",
    "        return self.cards[key]\n",
    "    \n",
    "    def __setitem__(self, key, value):\n",
    "        self.cards[key] = value\n",
    "\n",
    "    def __len__(self):\n",
    "        return len(self.cards)\n",
    "\n",
    "    def discard(self, card):\n",
    "        if card in self.cards:\n",
    "            del self.cards[self.cards.index(card)]\n",
    "\n",
    "    def __repr__(self):\n",
    "        return \",\".join([str(c) for c in self.cards])\n",
    "\n",
    "    def __str__(self):\n",
    "        return \",\".join([str(c) for c in self.cards])"
   ]
  },
  {
   "cell_type": "code",
   "execution_count": null,
   "metadata": {},
   "outputs": [],
   "source": [
    "def sort_hand(hand, diff):\n",
    "    cards_lst = sorted(hand.cards[1:len(hand.cards)-1])\n",
    "\n",
    "    order= {1:[0,1,2], 2:[0,2,1], 3:[1,0,2], 4:[1,2,0], 5:[2,0,1], 6:[2,1,0]}\n",
    "\n",
    "    for i,loc in enumerate(order[diff]):\n",
    "        hand.__setitem__(i+1, cards_lst[loc])\n",
    "\n",
    "    return hand"
   ]
  },
  {
   "cell_type": "code",
   "execution_count": null,
   "metadata": {},
   "outputs": [],
   "source": [
    "def find_matching_suit(hand):\n",
    "    index1 = 0\n",
    "    for i in range(len(hand)-1):\n",
    "        if hand.cards[i].suit == hand.cards[i+1].suit:\n",
    "            return (hand.cards[i], hand.cards[i+1],i,i+1)\n",
    "\n",
    "    while True:\n",
    "        card1 = hand.cards[index1]\n",
    "        for index2, card in enumerate(hand.cards):\n",
    "            if not (card1 == card):\n",
    "                if (card1.suit == card.suit):\n",
    "                    card2 = card\n",
    "                    return (card1, card2 , index1, index2)\n",
    "        index1 +=1\n",
    "\n"
   ]
  },
  {
   "cell_type": "code",
   "execution_count": null,
   "metadata": {},
   "outputs": [],
   "source": [
    "def find_diff(card1,card2):\n",
    "    lst = \"2 3 4 5 6 7 8  9 10 J Q K A\".split()\n",
    "    cdindex1 = lst.index(card1.fVal)\n",
    "    cdindex2 = lst.index(card2.fVal)\n",
    "\n",
    "    lst1 = lst[cdindex1:] + lst[:cdindex1]\n",
    "\n",
    "    diff1 = abs(lst1.index(card1.fVal)-lst1.index(card2.fVal))\n",
    "    lst2 = lst[cdindex2:] + lst[:cdindex2]\n",
    "    diff2 = abs(lst2.index(card1.fVal)-lst2.index(card2.fVal))\n",
    "\n",
    "    diff = min([diff1,diff2])\n",
    "\n",
    "    if diff == diff1:\n",
    "        return (card1, card2, diff)\n",
    "    if diff == diff2:\n",
    "        return (card2, card1, diff)\n",
    "\n"
   ]
  },
  {
   "cell_type": "code",
   "execution_count": null,
   "metadata": {},
   "outputs": [],
   "source": [
    "def place_cards(card1,card2,index1,index2,hand):\n",
    "    temp1 = hand.__getitem__(0)\n",
    "    temp2 = hand.__getitem__(-1)\n",
    "    hand.__setitem__(index1,temp1)\n",
    "    hand.__setitem__(index2,temp2)\n",
    "    first , last , diff = find_diff(card1,card2)\n",
    "    hand.__setitem__(0,first)\n",
    "    hand.__setitem__(-1,last)\n",
    "\n",
    "    return hand, diff\n"
   ]
  },
  {
   "cell_type": "code",
   "execution_count": null,
   "metadata": {},
   "outputs": [],
   "source": [
    "def game():\n",
    "    d = Deck()\n",
    "    h= Hand()\n",
    "    d.deal(h,5)\n",
    "\n",
    "    card1 , card2, index1, index2 = find_matching_suit(h)\n",
    "\n",
    "    h , diff = place_cards(card1,card2,index1,index2,h)\n",
    "\n",
    "    h = sort_hand(h, diff)\n",
    "\n",
    "    \n",
    "    print(\"\\n\".join([str(c)for c in h.cards[0:-1]]) + \"\\n\")\n",
    "\n",
    "    guess = input(\"Guess Card: \")\n",
    "    if '10'in guess:\n",
    "        guess = \"T\"+guess[-1]\n",
    "\n",
    "    if h.cards[-1] == Card(guess):\n",
    "        print(\"Congrats ... Good Work\\n\")\n",
    "        print(h.cards[-1])\n",
    "    if not (h.cards[-1] == Card(guess)):\n",
    "        print(\"Keep Practicing...\")\n",
    "        print(h.cards[-1])\n",
    "\n",
    "\n",
    "\n",
    "game()\n",
    "\n"
   ]
  },
  {
   "cell_type": "code",
   "execution_count": null,
   "metadata": {},
   "outputs": [],
   "source": []
  }
 ]
}