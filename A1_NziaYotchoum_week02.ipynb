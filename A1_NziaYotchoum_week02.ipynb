{
 "metadata": {
  "language_info": {
   "codemirror_mode": {
    "name": "ipython",
    "version": 3
   },
   "file_extension": ".py",
   "mimetype": "text/x-python",
   "name": "python",
   "nbconvert_exporter": "python",
   "pygments_lexer": "ipython3",
   "version": "3.8.5-final"
  },
  "orig_nbformat": 2,
  "kernelspec": {
   "name": "python38564bit7176352eb4854811a1e6a61134e4dd64",
   "display_name": "Python 3.8.5 64-bit"
  }
 },
 "nbformat": 4,
 "nbformat_minor": 2,
 "cells": [
  {
   "cell_type": "markdown",
   "metadata": {},
   "source": [
    "# Author: Huram-Abi Nzia Yotchoum\n",
    "## Week 2 problems\n",
    "## Created on: 22 Aug 2019\n",
    "### Lesson 3 problem numbers: \n",
    "        HW (book)problems : 1,2,4,5,6,7  (6)\n",
    "        JP problems : 1,2,3        (3)\n",
    "        BP problems : 1,2,3,4,5,7  (6)\n",
    "### Lesson 4 problem numbers: \n",
    "        HW (book)problems :8,9,15,18  (4)\n",
    "        JP problems : 1,2,3,4      (4)\n",
    "        BP problems : 1,3,4        (3)\n",
    "### Lesson 5 problem numbers: \n",
    "        HW (book)problems : 1,2,9  (3)\n",
    "        JP problems : 1,2,3        (3)\n",
    "        BP problems : 1,2,3,4,5,6  (6)\n",
    " \n",
    "Assistance Received: Any documentation needed\n"
   ]
  },
  {
   "cell_type": "code",
   "execution_count": 98,
   "metadata": {},
   "outputs": [],
   "source": [
    "import math\n",
    "import random"
   ]
  },
  {
   "cell_type": "markdown",
   "metadata": {},
   "source": [
    "## Board Problems   "
   ]
  },
  {
   "cell_type": "markdown",
   "metadata": {},
   "source": [
    "### lesson 3"
   ]
  },
  {
   "cell_type": "code",
   "execution_count": 99,
   "metadata": {
    "tags": []
   },
   "outputs": [
    {
     "output_type": "stream",
     "name": "stdout",
     "text": "the factorial of 10 is 3628800 \n"
    }
   ],
   "source": [
    "'''\n",
    "1. The factorial function of a positive integer n, is denoted by n! and is calculated by finding the product of all of the integers that come before it (starting at 1). Use python to write code that will find the factorial of any number n.\n",
    "'''\n",
    "\n",
    "n = 10\n",
    "fact = 1\n",
    "if n <= 1:\n",
    "    print(f\"the factorial of {n} is {fact} \")\n",
    "else:\n",
    "    temp = n\n",
    "    while temp >=1:\n",
    "        fact*=temp\n",
    "        temp-=1\n",
    "    print(f\"the factorial of {n} is {fact} \")"
   ]
  },
  {
   "cell_type": "code",
   "execution_count": 100,
   "metadata": {
    "tags": []
   },
   "outputs": [
    {
     "output_type": "stream",
     "name": "stdout",
     "text": "The vectors are not of equal dimensions\n"
    }
   ],
   "source": [
    "'''\n",
    "2. Given two vectors of equal dimensions 𝑎 = [1,2,3,4] and 𝑏 = [−1,8,5, −2] (for example). Develop python code that will find the dot product of these vectors. How can you check to make sure that the dot product is legal?\n",
    "'''\n",
    "a = [1,2,3,4,3]\n",
    "b = [-1,8,5, -2]\n",
    "if len(a) == len(b):\n",
    "    dotproduct = sum([a[i]*b[i] for i in range(len(a))])\n",
    "    print(dotproduct)\n",
    "else:\n",
    "    print(\"The vectors are not of equal dimensions\")"
   ]
  },
  {
   "cell_type": "code",
   "execution_count": 101,
   "metadata": {
    "tags": []
   },
   "outputs": [
    {
     "output_type": "stream",
     "name": "stdout",
     "text": "[8, 10, 12, 12, 64, 94, 112, 14, 90]\n"
    }
   ],
   "source": [
    "'''\n",
    "3. Given a vector and a scalar, use a python list to find the scalar multiple of the vector (given as a list)\n",
    "'''\n",
    "vector = [4,5,6,6,32,47,56,7,45]\n",
    "scalar = 2\n",
    "\n",
    "print([a*scalar for a in vector])"
   ]
  },
  {
   "cell_type": "code",
   "execution_count": 102,
   "metadata": {
    "tags": []
   },
   "outputs": [
    {
     "output_type": "stream",
     "name": "stdout",
     "text": "[1.0, 1.9, 2.8, 3.7, 4.6, 5.5, 6.4, 7.3, 8.2, 9.1, 10.0]\n"
    }
   ],
   "source": [
    "'''\n",
    "4. Create a linspace function. Given a start point, end point, and number of intervals; create a vector of values that represent equally spaced intervals from the start to the end point. (This exercise is similar to last night’s tutorial.)\n",
    "For example, a = 1, b = 10, n= 10 → intervals = [1.0, 2.0, 3.0, 4.0, 5.0, 6.0, 7.0, 8.0, 9.0, 10.0]\n",
    "'''\n",
    "a = 1; b = 10; n = 11\n",
    "print( [a+ i*((b-a)/(n-1)) for i in range(n)] )\n"
   ]
  },
  {
   "cell_type": "code",
   "execution_count": 2,
   "metadata": {
    "tags": []
   },
   "outputs": [
    {
     "output_type": "stream",
     "name": "stdout",
     "text": "[5, 7, 9, 11, 13, 15, 17, 19, 21, 23, 25, 27, 29, 31, 33, 35, 37, 39, 41]\n"
    }
   ],
   "source": [
    "'''\n",
    "5.Create an arange function. Given a start point, end point, and interval length; create a vector of values that represent equally spaced inrvals from the start up to the end point.\n",
    "For example, a = 1, b = 10, delta = 0.5 → intervals = [1.0, 1.5, 2.0, 2.5, …, 9.5]\n",
    "'''\n",
    "a = 5; b = 41; n = 2\n",
    "print([a+ i*n for i in range(int((b-a)/n)+1)] )"
   ]
  },
  {
   "cell_type": "code",
   "execution_count": 104,
   "metadata": {
    "tags": []
   },
   "outputs": [
    {
     "output_type": "stream",
     "name": "stdout",
     "text": "*                                        \n                                      ***                                       \n                                     *****                                      \n                                    *******                                     \n                                   *********                                    \n                                  ***********                                   \n                                 *************                                  \n                                ***************                                 \n                               *****************                                \n                              *******************                               \n                             *********************                              \n                            ***********************                             \n                           *************************                            \n                          ***************************                           \n                         *****************************                          \n                        *******************************                         \n                       *********************************                        \n                      ***********************************                       \n                     *************************************                      \n                    ***************************************                     \n                   *****************************************                    \n                  *******************************************                   \n                 *********************************************                  \n                ***********************************************                 \n               *************************************************                \n              ***************************************************               \n             *****************************************************              \n            *******************************************************             \n           *********************************************************            \n          ***********************************************************           \n         *************************************************************          \n        ***************************************************************         \n       *****************************************************************        \n      *******************************************************************       \n     *********************************************************************      \n    ***********************************************************************     \n   *************************************************************************    \n  ***************************************************************************   \n *****************************************************************************  \n******************************************************************************* \n\n"
    }
   ],
   "source": [
    "'''\n",
    "7. Use loops to make a triangle using spaces and stars. You can concatenate a string to another string using the ‘+’operator. Let line 1 have 1 star, line 2 have 3 stars, line 3 have 5 stars and so on while centering each row. Your output should look like the following examples for N = 30 and N = 5 rows\n",
    "'''\n",
    "N = 40\n",
    "char = '*'\n",
    "line = ''\n",
    "for i in range(N):\n",
    "    line+=f'{char:^{N*2}}'+\"\\n\"\n",
    "    char +=\"**\"\n",
    "print(line)"
   ]
  },
  {
   "cell_type": "markdown",
   "metadata": {},
   "source": [
    "### lesson 4"
   ]
  },
  {
   "cell_type": "code",
   "execution_count": 105,
   "metadata": {
    "tags": []
   },
   "outputs": [
    {
     "output_type": "stream",
     "name": "stdout",
     "text": "1\t2\t3\n4\t5\t6\n7\t8\t9\n"
    }
   ],
   "source": [
    "'''\n",
    "1. Define a matrix 𝐴 =\n",
    "1 2 3\n",
    "4 5 6\n",
    "7 8 9\n",
    "using a nested list and write a script that will display it to the screen in a matrix form. Ensure that you code is general enough to work on any size matrix\n",
    "'''\n",
    "def matrix(N, M):\n",
    "    count = 1\n",
    "\n",
    "    Matrix = []\n",
    "    for i in range(N):\n",
    "        Matrix.append([])\n",
    "        for j in range(M):\n",
    "            Matrix[i].append(count)\n",
    "            count +=1\n",
    "    return Matrix\n",
    "\n",
    "print(\"\\n\".join(\"\\t\".join(str(i)for i in j) for j in matrix(3,3)))\n"
   ]
  },
  {
   "cell_type": "code",
   "execution_count": 106,
   "metadata": {
    "tags": []
   },
   "outputs": [
    {
     "output_type": "stream",
     "name": "stdout",
     "text": "1\t4\n2\t5\n3\t6\n"
    }
   ],
   "source": [
    "'''\n",
    "2. Define a matrix 𝐴 =\n",
    "1 2 3\n",
    "4 5 6\n",
    "7 8 9\n",
    "and compute its transpose. Ensure that your algorithm is flexible enough to\n",
    "transpose any size matrix 𝐴\n",
    "'''\n",
    "\n",
    "A = matrix(2,3)\n",
    "\n",
    "A_T = []\n",
    "\n",
    "for j in range(len(A[0])):\n",
    "    A_T.append([])\n",
    "    for i in range(len(A)):\n",
    "        A_T[j].append(A[i][j])\n",
    "\n",
    "print(\"\\n\".join(\"\\t\".join(str(i)for i in j) for j in A_T))\n"
   ]
  },
  {
   "cell_type": "code",
   "execution_count": 107,
   "metadata": {
    "tags": []
   },
   "outputs": [
    {
     "output_type": "stream",
     "name": "stdout",
     "text": "[1.0, 4.0, -2.0]\n"
    }
   ],
   "source": [
    "'''\n",
    "4. Write a script that will compute the solution to a linear algebra problem given an upper triangular matrix and\n",
    "the vector  for the system using back substitution.\n",
    "'''\n",
    "\n",
    "A = [[1,0,-4],[0,1,5],[0,0,1]]\n",
    "c = [9,-6,-2]\n",
    "n = len(A)\n",
    "x=[c[i]/(A[i][i]) for i in range(len(c))]\n",
    "\n",
    "\n",
    "for i in range(len(c)):\n",
    "    for j in range(i):\n",
    "        x[n-1-i] -= A[n-1-i][n-1-j]*x[n-1-j]/(A[n-1-i][n-1-i])\n",
    "\n",
    "print(x)\n"
   ]
  },
  {
   "cell_type": "markdown",
   "metadata": {},
   "source": [
    "### Lesson 5"
   ]
  },
  {
   "cell_type": "code",
   "execution_count": 108,
   "metadata": {},
   "outputs": [
    {
     "output_type": "execute_result",
     "data": {
      "text/plain": "[1.4140625, 1.421875]"
     },
     "metadata": {},
     "execution_count": 108
    }
   ],
   "source": [
    "\n",
    "'''\n",
    "#1 The bisection method is a root-finding algorithm based on the intermediate value theorem from calculus\n",
    "'''\n",
    "def f(x):\n",
    "    return x**2-2\n",
    "\n",
    "\n",
    "def bisection(interval, certainty):\n",
    "    \"\"\"This program will, given a fucntion, find a zero to a degree of certainty of that function inside a given interval\"\"\"    \n",
    "#given an x interval that has both a negative and positve y value\n",
    "    if f(interval[0]) <=0 and f(interval[1])>=0 or f(interval[0]) >=0 and f(interval[1])<=0:\n",
    "    \n",
    "#While the interval is bigger than size of width\n",
    "        while  abs(interval[0]- interval[1])>certainty:\n",
    "#we continue to bisect the interval\n",
    "            distance=abs(interval[0]-interval[1])\n",
    "#we bisect the interval by testing the end points, and the mid point output values\n",
    "            if f(interval[0])>=0:\n",
    "                midpoint=interval[0]-distance/2\n",
    "            elif f(interval[0])<0:\n",
    "                midpoint=interval[0]+distance/2\n",
    "                \n",
    "#whichever end point value the midpoint is the same sign as gets replaced by the midpoint\n",
    "            if f(interval[0])<=0 and f(midpoint)<=0:\n",
    "                interval[0]=midpoint\n",
    "            else:\n",
    "                interval[1]=midpoint\n",
    "#print the new interval\n",
    "        return interval\n",
    "    else:\n",
    "        print(\"No zeros in that interval big dawg\")\n",
    "bisection([-1,3],.01)"
   ]
  },
  {
   "cell_type": "code",
   "execution_count": 109,
   "metadata": {},
   "outputs": [
    {
     "output_type": "execute_result",
     "data": {
      "text/plain": "80.00160000989354"
     },
     "metadata": {},
     "execution_count": 109
    }
   ],
   "source": [
    "'''\n",
    "#2 Use the definition of the derivative from calculus to estimate a derivative at a function value\n",
    "'''\n",
    "g= lambda x:x**3+4*x**2-10\n",
    "def derivative(f,a,h=1E-4):\n",
    "    ans=(f(a+h)-f(a))/h\n",
    "    return(ans)\n",
    "\n",
    "derivative(g,4)"
   ]
  },
  {
   "cell_type": "code",
   "execution_count": 110,
   "metadata": {
    "tags": []
   },
   "outputs": [
    {
     "output_type": "stream",
     "name": "stdout",
     "text": "0.9642527038292809\n"
    },
    {
     "output_type": "execute_result",
     "data": {
      "text/plain": "0.0004862782911772001"
     },
     "metadata": {},
     "execution_count": 110
    }
   ],
   "source": [
    "'''\n",
    "#3 Newton’s Method is another root-finding algorithm based on the linear approximation of a function using the\n",
    "derivative. It is an iterative method with the following steps:\n",
    "'''\n",
    "def derivative(f,a,h=1E-4):\n",
    "    ans=(f(a+h)-f(a))/h\n",
    "    return(ans)\n",
    "\n",
    "g= lambda x:x**4+98*x**3-9*x**2+10*x-90\n",
    "def newton( f, x_n ):\n",
    "\n",
    "\n",
    "    while abs(f(x_n)) >= 0.05:\n",
    "        \n",
    "        x_n1 = x_n - (f(x_n)/derivative(f,x_n))\n",
    "        x_n = x_n1\n",
    "    \n",
    "    return x_n1\n",
    "\n",
    "\n",
    "print(newton(g, 1))\n",
    "g(newton(g, 1))"
   ]
  },
  {
   "cell_type": "code",
   "execution_count": 111,
   "metadata": {
    "tags": []
   },
   "outputs": [
    {
     "output_type": "stream",
     "name": "stdout",
     "text": "[2, 3, 5, 7, 11, 13, 17]\n"
    }
   ],
   "source": [
    "'''\n",
    "#4 Sieve of Eratosthenes – is an algorithm which finds all of the prime numbers up to and including some number 𝑛\n",
    "'''\n",
    "def findprimes(n):\n",
    "    newlst = list(range(2,n+1))\n",
    "    p = 2\n",
    "    while p < n**2:\n",
    "        newlst = [a for a in newlst if (a%p != 0 or a==p)]\n",
    "        p+=1    \n",
    "    return newlst\n",
    "\n",
    "print (findprimes(17))"
   ]
  },
  {
   "cell_type": "code",
   "execution_count": 112,
   "metadata": {
    "tags": []
   },
   "outputs": [
    {
     "output_type": "execute_result",
     "data": {
      "text/plain": "8"
     },
     "metadata": {},
     "execution_count": 112
    }
   ],
   "source": [
    "'''\n",
    "5. Write a program that adds all the digits in an integer. If the resulting sum is more than one digit, keep repeating until\n",
    "the sum is one digit. For example, 827 -> 8+2+7 = 17 -> 1+7 = 8. Report your final answer as 8.\n",
    "\n",
    "'''\n",
    "def sum_num(num):\n",
    "    \n",
    "    while True:\n",
    "        sums = 0\n",
    "        for digit in str(num):\n",
    "            sums+= int(digit)\n",
    "        \n",
    "        if sums <= 9:\n",
    "            return sums\n",
    "        else:\n",
    "            num = sums\n",
    "sum_num(827)\n"
   ]
  },
  {
   "cell_type": "code",
   "execution_count": 113,
   "metadata": {
    "tags": []
   },
   "outputs": [
    {
     "output_type": "stream",
     "name": "stdout",
     "text": "A=16.195,B=40.601,and C=123.204\n"
    }
   ],
   "source": [
    "'''\n",
    "#6 Law of Cosince. Find angle A,B, C\n",
    "'''\n",
    "\n",
    "def law_of_cos(a,b,c):\n",
    "    import math as m\n",
    "    C=m.degrees(m.acos((c**2-a**2-b**2)/(-2*a*b)))\n",
    "    B=m.degrees(m.acos((b**2-a**2-c**2)/(-2*a*c)))\n",
    "    A=m.degrees(m.acos((a**2-b**2-c**2)/(-2*b*c)))\n",
    "    print(f'A={A:.3f},B={B:.3f},and C={C:.3f}')\n",
    "law_of_cos(3,7,9)"
   ]
  },
  {
   "cell_type": "markdown",
   "metadata": {},
   "source": [
    "## Jupyter Book Problems"
   ]
  },
  {
   "cell_type": "markdown",
   "metadata": {},
   "source": [
    "### Lesson 3"
   ]
  },
  {
   "cell_type": "code",
   "execution_count": 114,
   "metadata": {
    "tags": []
   },
   "outputs": [
    {
     "output_type": "stream",
     "name": "stdout",
     "text": "1275 1275.0\n"
    }
   ],
   "source": [
    "### lesson 3 Exercise 1 (3-1)\n",
    "#Compute the sum of the integers up to and including n\n",
    "\n",
    "sums = sum(range(51))\n",
    "\n",
    "n=50\n",
    "formula = (n*(n+1))/2\n",
    "print(sums,formula)"
   ]
  },
  {
   "cell_type": "code",
   "execution_count": 115,
   "metadata": {
    "tags": []
   },
   "outputs": [
    {
     "output_type": "stream",
     "name": "stdout",
     "text": "[1.0, 1.9, 2.8, 3.7, 4.6, 5.5, 6.4, 7.3, 8.2, 9.1, 10.0]\n"
    }
   ],
   "source": [
    "# Excercise 2\n",
    "a = 1; b = 10; n = 11\n",
    "print( [a+ i*((b-a)/(n-1)) for i in range(n)] )"
   ]
  },
  {
   "cell_type": "code",
   "execution_count": 116,
   "metadata": {
    "tags": []
   },
   "outputs": [
    {
     "output_type": "stream",
     "name": "stdout",
     "text": "The word 'quickly' is worth a total of 25 points\n"
    }
   ],
   "source": [
    "### lesson 3 Exercise 3 (3-3)\n",
    "let = ['BLANK','A','B','C','D','E','F','G','H','I','J','K','L','M','N','O',\n",
    "       'P','Q','R','S','T','U','V','W','X','Y','Z']\n",
    "pts =      [0, 1, 3, 3, 2, 1, 4, 2, 4, 1, 8, 5, 1, 3, 1, 1, 3, 10, 1, 1, 1, 1, 4, 4, 8, 4, 10]\n",
    "numTiles = [2, 9, 2, 2, 4, 12, 2, 3, 2, 9, 1, 1, 4, 2, 6, 8, 2, 1, 6, 4, 6, 4, 2, 2, 1, 2, 1]\n",
    "\n",
    "word = 'quickly'\n",
    "word = word.upper()\n",
    "word= list(word)\n",
    "total_points = 0\n",
    "for i,char in enumerate(word):\n",
    "  if char == \" \":\n",
    "    total_points += pts[let.index(\"BLANK\")]\n",
    "  else:\n",
    "    total_points += pts[let.index(char)]\n",
    "print(f\"The word {''.join(c for c in word).lower()!r} is worth a total of {total_points} points\")"
   ]
  },
  {
   "cell_type": "markdown",
   "metadata": {},
   "source": [
    "### Lesson 4"
   ]
  },
  {
   "cell_type": "code",
   "execution_count": 118,
   "metadata": {
    "tags": []
   },
   "outputs": [
    {
     "output_type": "stream",
     "name": "stdout",
     "text": "(1)  a \n\n(2)  ['d', 'e', 'f']\n(3)  h \n\na\tb\tc\nd\te\tf\ng\th\n"
    }
   ],
   "source": [
    "#Execise 1\n",
    "#index a nested list\n",
    "\n",
    "# Define the following nested list\n",
    "q = [['a','b','c'],['d','e','f'],['g','h']]\n",
    "\n",
    "print('(1) ',q[0][0],'\\n')\n",
    "print('(2) ',q[1]), '\\n'\n",
    "print('(3) ',q[-1][-1], '\\n')\n",
    "\n",
    "#  q[-1][-2] has the value 'g' because q[-1] refers to the last element of the list q which is ['g','h']. Since the last element of q is a list, q[-1][-2] refers to the second to last element of the last list in q\n",
    "\n",
    "print(\"\\n\".join(\"\\t\".join(str(i)for i in j) for j in q))\n"
   ]
  },
  {
   "cell_type": "code",
   "execution_count": 119,
   "metadata": {
    "tags": []
   },
   "outputs": [
    {
     "output_type": "stream",
     "name": "stdout",
     "text": "time \t  position\n0.00 \t    0.00   \n2.04 \t   183.67  \n4.08 \t   326.53  \n6.12 \t   428.57  \n8.16 \t   489.79  \n10.20 \t   510.20  \n12.24 \t   489.79  \n14.29 \t   428.57  \n16.33 \t   326.53  \n18.37 \t   183.67  \n20.41 \t    0.00   \n"
    }
   ],
   "source": [
    "#Exercise 2\n",
    "g = 9.8\n",
    "V_o = (.5*g*(10.20**2) + 510.20)/10.20\n",
    "\n",
    "\n",
    "\n",
    "a = 0; b = (2*V_o)/g; n = 11\n",
    "\n",
    "print(\"time \\t  position\")\n",
    "\n",
    "time_pos_lst = []\n",
    "\n",
    "for i in range(n):\n",
    "    t = a+ i*((b-a)/(n-1)) \n",
    "    y = V_o * t - .5*g*(t**2)\n",
    "\n",
    "    time_pos_lst += [[t,y]]\n",
    "    \n",
    "for t, y in time_pos_lst:\n",
    "    print(f\"{t:.2f} \\t {y:^10.2f}\")\n",
    "\n",
    "    \n",
    "\n"
   ]
  },
  {
   "cell_type": "code",
   "execution_count": 120,
   "metadata": {
    "tags": []
   },
   "outputs": [
    {
     "output_type": "stream",
     "name": "stdout",
     "text": "False\nFalse\nTrue\nFalse\nFalse\nTrue\nFalse\nTrue\nFalse\nFalse\nTrue\nTrue\nFalse\nTrue\n"
    }
   ],
   "source": [
    "#Excercise 3\n",
    "C = 41\n",
    "print (C==40 )  # false because 41 does not equal 40\n",
    "print (C!=40 and C < 41)   # the first expression is true but the second expression if flase  because C is equal to 41 not less than 41. the expression is then \"True and False\" wich is false. With and both side have to be true in order to be True\n",
    "print (not C == 40)  # the not operator gives the opposite result of the comparison. not False equals true \n",
    "print (not C > 40)   # C > 40 is True, so not True is False\n",
    "print (C <= 40) # 41 is not less than equal to 40 , so it is False\n",
    "print (not False) # not False is True \n",
    "print (True and False) # if the and operator is used then both expression have to be true. this will result in False \n",
    "print (False or True) # if at least on expression is true when using the or operator then the the whole expression is True. This will result in True \n",
    "print (False or False or False) # none of the expressions are true so this will result in false \n",
    "print (True and True and False) # at least one experssion is false and since the and operator is being used, the whole expression is false\n",
    "print (True or False and True) # from left to right -> True or False will result in True -> this leaves us True and True = the whole expression will result in True\n",
    "print (False == 0) # 0 is equivalent to false. False == False , so the expression is True \n",
    "print (True == 0)  # True does not equal 0 (which is False ), this expression is False \n",
    "print (True == 1)  # 1 is equivalent to True. True == True , so the expression is True\n"
   ]
  },
  {
   "cell_type": "code",
   "execution_count": 121,
   "metadata": {
    "tags": []
   },
   "outputs": [
    {
     "output_type": "stream",
     "name": "stdout",
     "text": "[[1, 2, 3], [4, 5, 6], [7, 8, 9]]\n[[1, 2, 3], [4, -10, 6], [7, 8, 9]]\n"
    }
   ],
   "source": [
    "#Execise 4\n",
    "A = [[1,2,3],[4,5,6],[7,8,9]]\n",
    "A1 = [A[i][:] for i in range(len(A))] #this needs to change because it creates an alias\n",
    "A1[1][1]=-10 #change the 5 to a -10 in only A1\n",
    "print(A)\n",
    "print(A1)"
   ]
  },
  {
   "cell_type": "markdown",
   "metadata": {},
   "source": [
    "### Lesson 5"
   ]
  },
  {
   "cell_type": "code",
   "execution_count": 122,
   "metadata": {
    "tags": []
   },
   "outputs": [
    {
     "output_type": "stream",
     "name": "stdout",
     "text": "500.0150001990278\n"
    }
   ],
   "source": [
    "#Exercise 1\n",
    "def derivative(f,a,h=1E-4):\n",
    "    \"\"\"\n",
    "    Input:  f-> function as a string that we want to estimate the derivative\n",
    "            a-> the x-value where we want to estimate the derivative.\n",
    "            h-> the incremental change in x that we use to calculate the estimate from the definition of a derivative.\n",
    "    Output: an estimate for f'(a)\n",
    "    \"\"\"\n",
    "    ans=(f(a+h)-f(a))/h\n",
    "    return ans\n",
    "\n",
    "g= lambda x:x**4\n",
    "\n",
    "print(derivative(g,5))\n",
    "\n"
   ]
  },
  {
   "cell_type": "code",
   "execution_count": 123,
   "metadata": {},
   "outputs": [
    {
     "output_type": "execute_result",
     "data": {
      "text/plain": "'C+'"
     },
     "metadata": {},
     "execution_count": 123
    }
   ],
   "source": [
    "#exercise 2\n",
    "def percentGrade(percent,scale):\n",
    "    \"\"\"\n",
    "    Input: percent - number between 0-100 which reflect the percentage for a class\n",
    "           scale - a 10 or 4 number list which gives the cutoff scores for letter grades with or without '+'/'-'\n",
    "                   assumes that D's do not have a \"+\" or \"-\"\n",
    "    Output: grade - the letter grade associated with the percent\n",
    "    \"\"\"\n",
    "\n",
    "    grade = \"\"\n",
    "    if len(scale) == 4:\n",
    "        if percent > scale[0]:\n",
    "            grade = \"A\"\n",
    "        elif percent > scale[1]:\n",
    "            grade = \"B\"\n",
    "        elif percent > scale[2]:\n",
    "            grade = \"C\"\n",
    "        elif percent > scale[3]:\n",
    "            grade = \"D\"\n",
    "        else:\n",
    "            grade=\"F\" \n",
    "\n",
    "    elif len(scale) == 10:\n",
    "        if percent > scale[0]:\n",
    "            grade = \"A+\"\n",
    "        elif percent > scale[1]:\n",
    "            grade = \"A\"\n",
    "        elif percent > scale[2]:\n",
    "            grade = \"A-\"\n",
    "        elif percent > scale[3]:\n",
    "            grade = \"B+\"\n",
    "        elif percent > scale[4]:\n",
    "            grade = \"B\"\n",
    "        elif percent > scale[5]:\n",
    "            grade = \"B-\"\n",
    "        elif percent > scale[6]:\n",
    "            grade = \"C+\"\n",
    "        elif percent > scale[7]:\n",
    "            grade = \"C\"\n",
    "        elif percent > scale[8]:\n",
    "            grade = \"C-\"\n",
    "        elif percent > scale[9]:\n",
    "            grade = \"D\"\n",
    "        else:\n",
    "            grade=\"F\" \n",
    "\n",
    "    return grade\n",
    "\n",
    "\n",
    "percentGrade(78,[97,93,90,87,84,80,77,74,70,67])\n"
   ]
  },
  {
   "cell_type": "code",
   "execution_count": 124,
   "metadata": {},
   "outputs": [
    {
     "output_type": "execute_result",
     "data": {
      "text/plain": "[1.4140625, 1.421875]"
     },
     "metadata": {},
     "execution_count": 124
    }
   ],
   "source": [
    "#Exercise 3\n",
    "\n",
    "def f(x):\n",
    "    return x**2-2\n",
    "\n",
    "\n",
    "def bisection(interval, certainty):\n",
    "    \"\"\"This program will, given a fucntion, find a zero to a degree of certainty of that function inside a given interval\"\"\"    \n",
    "#given an x interval that has both a negative and positve y value\n",
    "    if f(interval[0]) <=0 and f(interval[1])>=0 or f(interval[0]) >=0 and f(interval[1])<=0:\n",
    "    \n",
    "#While the interval is bigger than size of width\n",
    "        while  abs(interval[0]- interval[1])>certainty:\n",
    "#we continue to bisect the interval\n",
    "            distance=abs(interval[0]-interval[1])\n",
    "#we bisect the interval by testing the end points, and the mid point output values\n",
    "            if f(interval[0])>=0:\n",
    "                midpoint=interval[0]-distance/2\n",
    "            elif f(interval[0])<0:\n",
    "                midpoint=interval[0]+distance/2\n",
    "                \n",
    "#whichever end point value the midpoint is the same sign as gets replaced by the midpoint\n",
    "            if f(interval[0])<=0 and f(midpoint)<=0:\n",
    "                interval[0]=midpoint\n",
    "            else:\n",
    "                interval[1]=midpoint\n",
    "#print the new interval\n",
    "        return interval\n",
    "    else:\n",
    "        print(\"No zeros in that interval big dawg\")\n",
    "bisection([-1,3],.01)"
   ]
  },
  {
   "cell_type": "code",
   "execution_count": null,
   "metadata": {},
   "outputs": [],
   "source": []
  },
  {
   "cell_type": "markdown",
   "metadata": {},
   "source": [
    "## Book Suggested Problems"
   ]
  },
  {
   "cell_type": "code",
   "execution_count": 125,
   "metadata": {
    "tags": []
   },
   "outputs": [
    {
     "output_type": "stream",
     "name": "stdout",
     "text": "°F |     °C\n ____________\n   0 | -17.78\n ____________\n  10 | -12.22\n ____________\n  20 |  -6.67\n ____________\n  30 |  -1.11\n ____________\n  40 |   4.44\n ____________\n  50 |   10.0\n ____________\n  60 |  15.56\n ____________\n  70 |  21.11\n ____________\n  80 |  26.67\n ____________\n  90 |  32.22\n ____________\n 100 |  37.78\n"
    }
   ],
   "source": [
    "#Exercise 2.1 make Fahrenheit-Celcius conversion table\n",
    "\n",
    "F = list(range(0,101,10))\n",
    "C = [-17.78,-12.22,-6.67,-1.11,4.44,10.00,15.56,21.11,26.67,32.22,37.78]\n",
    "\n",
    "A = '°F'\n",
    "B = '°C'\n",
    "print(f'{A:>4} | {B:>6}')\n",
    "for fo , c in zip(F,C):\n",
    "    print(\" ____________\")\n",
    "    print(f'{fo:>4} | {c:>6}')"
   ]
  },
  {
   "cell_type": "code",
   "execution_count": 126,
   "metadata": {
    "tags": []
   },
   "outputs": [
    {
     "output_type": "stream",
     "name": "stdout",
     "text": "°F |     °C |    °Ce\n_______________________ \n   0 | -17.78 |  -15.0\n_______________________ \n  10 | -12.22 |  -10.0\n_______________________ \n  20 |  -6.67 |   -5.0\n_______________________ \n  30 |  -1.11 |    0.0\n_______________________ \n  40 |   4.44 |    5.0\n_______________________ \n  50 |   10.0 |   10.0\n_______________________ \n  60 |  15.56 |   15.0\n_______________________ \n  70 |  21.11 |   20.0\n_______________________ \n  80 |  26.67 |   25.0\n_______________________ \n  90 |  32.22 |   30.0\n_______________________ \n 100 |  37.78 |   35.0\n"
    }
   ],
   "source": [
    "# Exercise 2.2\n",
    "\n",
    "C_e = lambda f: (f-30)/2\n",
    "\n",
    "A = '°F'\n",
    "B = '°C'\n",
    "Ce= '°Ce'\n",
    "print(f'{A:>4} | {B:>6} | {Ce:>6}')\n",
    "for fo , c in zip(F,C):\n",
    "    print(\"_______________________ \")\n",
    "    print(f'{fo:>4} | {c:>6} | {C_e(fo):>6}')\n"
   ]
  },
  {
   "cell_type": "code",
   "execution_count": 127,
   "metadata": {
    "tags": []
   },
   "outputs": [
    {
     "output_type": "stream",
     "name": "stdout",
     "text": "[1, 3, 5, 7, 9, 11, 13, 15, 17, 19, 21, 23, 25, 27, 29, 31, 33, 35, 37, 39, 41, 43, 45, 47, 49, 51, 53, 55, 57, 59, 61, 63, 65, 67, 69, 71, 73, 75, 77, 79, 81, 83, 85, 87, 89, 91, 93, 95, 97, 99]\n"
    }
   ],
   "source": [
    "#Exercise 2.4\n",
    "\n",
    "def odd_num(n):\n",
    "    \n",
    "    a = 1\n",
    "    odd_lst = []\n",
    "    \n",
    "    while a <=n:\n",
    "        odd_lst.append(a)\n",
    "        a+=2\n",
    "    return odd_lst\n",
    "\n",
    "print(odd_num(100))"
   ]
  },
  {
   "cell_type": "code",
   "execution_count": 128,
   "metadata": {
    "tags": []
   },
   "outputs": [
    {
     "output_type": "stream",
     "name": "stdout",
     "text": "1275\n1275.0\n1275\n"
    }
   ],
   "source": [
    "#Exercise 2.5\n",
    "\n",
    "def sums1(n):\n",
    "    a=0\n",
    "    for i in range(1,n+1):\n",
    "        a+=i\n",
    "\n",
    "    return a\n",
    "def sums2(n):\n",
    "    return n*(n+1)/2\n",
    "\n",
    "print(sums1(50))\n",
    "print(sums2(50))\n",
    "print(sum(list(range(1,50+1))))\n"
   ]
  },
  {
   "cell_type": "code",
   "execution_count": 129,
   "metadata": {
    "tags": []
   },
   "outputs": [
    {
     "output_type": "stream",
     "name": "stdout",
     "text": "N: 1 \tE_n: -4524349041182892756100450683746373118809708953600.000 \t deltaE: 0.000\n N: 2 \tE_n: -1131087260295723189025112670936593279702427238400.000 \t deltaE: 3393261780887169891593891671236506622263302291456.000\n N: 3 \tE_n: -502705449020321453402111593574788877996192169984.000 \t deltaE: 628381811275401735623001077361804401706235068416.000\n N: 4 \tE_n: -282771815073930797256278167734148319925606809600.000 \t deltaE: 219933633946390656145833425840640558070585360384.000\n N: 5 \tE_n: -180973961647315710244018027349854924752388358144.000 \t deltaE: 101797853426615087012260140384293395173218451456.000\n N: 6 \tE_n: -125676362255080363350527898393697219499048042496.000 \t deltaE: 55297599392235346893490128956157705253340315648.000\n N: 7 \tE_n: -92333653901691686002522111391524084717937754112.000 \t deltaE: 33342708353388677348005787002173134781110288384.000\n N: 8 \tE_n: -70692953768482699314069541933537079981401702400.000 \t deltaE: 21640700133208986688452569457987004736536051712.000\n N: 9 \tE_n: -55856161002257939266901288174976541999576907776.000 \t deltaE: 14836792766224760047168253758560537981824794624.000\n N: 10 \tE_n: -45243490411828927561004506837463731188097089536.000 \t deltaE: 10612670590429011705896781337512810811479818240.000\n N: 11 \tE_n: -37391314389941261064219598790248695216899883008.000 \t deltaE: 7852176021887666496784908047215035971197206528.000\n N: 12 \tE_n: -31419090563770090837631974598424304874762010624.000 \t deltaE: 5972223826171170226587624191824390342137872384.000\n N: 13 \tE_n: -26771296101673923763983557092091852922327924736.000 \t deltaE: 4647794462096167073648417506332451952434085888.000\n N: 14 \tE_n: -23083413475422921500630527847881021179484438528.000 \t deltaE: 3687882626251002263353029244210831742843486208.000\n N: 15 \tE_n: -20108217960812856412079647432599569084331327488.000 \t deltaE: 2975195514610065088550880415281452095153111040.000\n N: 16 \tE_n: -17673238442120674828517385483384269995350425600.000 \t deltaE: 2434979518692181583562261949215299088980901888.000\n N: 17 \tE_n: -15655186993712432559275331243571811135468339200.000 \t deltaE: 2018051448408242269242054239812458859882086400.000\n N: 18 \tE_n: -13964040250564484816725322043744135499894226944.000 \t deltaE: 1691146743147947742550009199827675635574112256.000\n N: 19 \tE_n: -12532822828761476270281259600272823624233123840.000 \t deltaE: 1431217421803008546444062443471311875661103104.000\n N: 20 \tE_n: -11310872602957231890251126709365932797024272384.000 \t deltaE: 1221950225804244380030132890906890827208851456.000\n"
    }
   ],
   "source": [
    "#Exercise 2.6\n",
    "m_e = 9.1094*10**(-31)\n",
    "e = 1.6022*10**(-19)\n",
    "eps = 8.8542*10**(-12)\n",
    "h = 6.6261*10**(-34)\n",
    "En = lambda n: (-(m_e*e**4)/(8*(eps**8)*h**2))*1/(n**2)\n",
    "oldE = En(1)\n",
    "for i in range(1,21):\n",
    "    print(f' N: {i} \\tE_n: {En(i):.3f} \\t deltaE: {En(i)-oldE:<.3f}')\n",
    "    oldE = En(i)\n",
    "\n",
    "\n",
    "\n",
    "\n",
    "\n"
   ]
  },
  {
   "cell_type": "code",
   "execution_count": 130,
   "metadata": {
    "tags": []
   },
   "outputs": [
    {
     "output_type": "stream",
     "name": "stdout",
     "text": "[1.0, 2.0, 3.0, 4.0, 5.0, 6.0, 7.0, 8.0, 9.0, 10.0]\n[1.0, 2.0, 3.0, 4.0, 5.0, 6.0, 7.0, 8.0, 9.0, 10.0]\n"
    }
   ],
   "source": [
    "#Exercise 2.7\n",
    "\n",
    "def coor(a,b,n):\n",
    "\n",
    "    h = (b-a)/(n-1)\n",
    "    coord = []\n",
    "    for i in range(n):\n",
    "\n",
    "        coord.append(a+i*h)\n",
    "\n",
    "\n",
    "    return [a+ i*((b-a)/(n-1)) for i in range(n)] , coord\n",
    "\n",
    "list_comp, for_loop = coor(1,10,10)\n",
    "\n",
    "print(list_comp)\n",
    "print(for_loop)\n",
    "\n"
   ]
  },
  {
   "cell_type": "code",
   "execution_count": 131,
   "metadata": {
    "tags": []
   },
   "outputs": [
    {
     "output_type": "stream",
     "name": "stdout",
     "text": "time \t  position\n0.00 \t    0.00   \n2.04 \t   183.67  \n4.08 \t   326.53  \n6.12 \t   428.57  \n8.16 \t   489.79  \n10.20 \t   510.20  \n12.24 \t   489.79  \n14.29 \t   428.57  \n16.33 \t   326.53  \n18.37 \t   183.67  \n20.41 \t    0.00   \n\n\n\ntime \t  position\n0.00 \t    0.00   \n2.04 \t   183.67  \n4.08 \t   326.53  \n6.12 \t   428.57  \n8.16 \t   489.79  \n10.20 \t   510.20  \n12.24 \t   489.79  \n14.29 \t   428.57  \n16.33 \t   326.53  \n18.37 \t   183.67  \n20.41 \t    0.00   \n"
    }
   ],
   "source": [
    "#Exercise 2.8\n",
    "\n",
    "g = 9.8\n",
    "V_o = (.5*g*(10.20**2) + 510.20)/10.20\n",
    "\n",
    "\n",
    "\n",
    "a = 0; b = (2*V_o)/g; n = 11\n",
    "\n",
    "print(\"time \\t  position\")\n",
    "\n",
    "time = []\n",
    "y_lst = []\n",
    "\n",
    "for i in range(n):\n",
    "    t = a+ i*((b-a)/(n-1)) \n",
    "    y = V_o * t - .5*g*(t**2)\n",
    "\n",
    "    time += [t] #used in Excercise 2.9 and 2.18\n",
    "    y_lst += [y] #use in Excercise 2.9 and 2.18\n",
    "    \n",
    "    print(f\"{t:.2f} \\t {y:^10.2f}\")\n",
    "\n",
    "print(\"\\n\\n\")\n",
    "#with a while loop\n",
    "count = 0\n",
    "print(\"time \\t  position\")\n",
    "\n",
    "while count <n:\n",
    "    t = a+ count*((b-a)/(n-1)) \n",
    "    y = V_o * t - .5*g*(t**2)\n",
    "\n",
    "    print(f\"{t:.2f} \\t {y:^10.2f}\")\n",
    "\n",
    "    count+=1\n",
    "\n",
    "\n",
    "\n"
   ]
  },
  {
   "cell_type": "code",
   "execution_count": 132,
   "metadata": {
    "tags": []
   },
   "outputs": [
    {
     "output_type": "stream",
     "name": "stdout",
     "text": "time \t  position\n0.00 \t    0.00   \n2.04 \t   183.67  \n4.08 \t   326.53  \n6.12 \t   428.57  \n8.16 \t   489.79  \n10.20 \t   510.20  \n12.24 \t   489.79  \n14.29 \t   428.57  \n16.33 \t   326.53  \n18.37 \t   183.67  \n20.41 \t    0.00   \n"
    }
   ],
   "source": [
    "#Excercise 2.9\n",
    "print(\"time \\t  position\")\n",
    "\n",
    "for t, y in zip(time, y_lst):\n",
    "    print(f\"{t:.2f} \\t {y:^10.2f}\")\n"
   ]
  },
  {
   "cell_type": "code",
   "execution_count": 133,
   "metadata": {
    "tags": []
   },
   "outputs": [
    {
     "output_type": "stream",
     "name": "stdout",
     "text": "(1)  a \n\n(2)  ['d', 'e', 'f']\n(3)  h \n\na\tb\tc\nd\te\tf\ng\th\n"
    }
   ],
   "source": [
    "#excercise 2.15\n",
    "\n",
    "#index a nested list\n",
    "\n",
    "# Define the following nested list\n",
    "q = [['a','b','c'],['d','e','f'],['g','h']]\n",
    "\n",
    "print('(1) ',q[0][0],'\\n')\n",
    "print('(2) ',q[1]), '\\n'\n",
    "print('(3) ',q[-1][-1], '\\n')\n",
    "\n",
    "#  q[-1][-2] has the value 'g' because q[-1] refers to the last element of the list q which is ['g','h']. Since the last element of q is a list, q[-1][-2] refers to the second to last element of the last list in q\n",
    "\n",
    "print(\"\\n\".join(\"\\t\".join(str(i)for i in j) for j in q))\n"
   ]
  },
  {
   "cell_type": "code",
   "execution_count": 134,
   "metadata": {
    "tags": []
   },
   "outputs": [
    {
     "output_type": "stream",
     "name": "stdout",
     "text": "False\nFalse\nTrue\nFalse\nFalse\nTrue\nFalse\nTrue\nFalse\nFalse\nTrue\nTrue\nFalse\nTrue\n"
    }
   ],
   "source": [
    "#Excercise 2.18\n",
    "C = 41\n",
    "print (C==40 )  # false because 41 does not equal 40\n",
    "print (C!=40 and C < 41)   # the first expression is true but the second expression if flase  because C is equal to 41 not less than 41. the expression is then \"True and False\" wich is false. With and both side have to be true in order to be True\n",
    "print (not C == 40)  # the not operator gives the opposite result of the comparison. not False equals true \n",
    "print (not C > 40)   # C > 40 is True, so not True is False\n",
    "print (C <= 40) # 41 is not less than equal to 40 , so it is False\n",
    "print (not False) # not False is True \n",
    "print (True and False) # if the and operator is used then both expression have to be true. this will result in False \n",
    "print (False or True) # if at least on expression is true when using the or operator then the the whole expression is True. This will result in True \n",
    "print (False or False or False) # none of the expressions are true so this will result in false \n",
    "print (True and True and False) # at least one experssion is false and since the and operator is being used, the whole expression is false\n",
    "print (True or False and True) # from left to right -> True or False will result in True -> this leaves us True and True = the whole expression will result in True\n",
    "print (False == 0) # 0 is equivalent to false. False == False , so the expression is True \n",
    "print (True == 0)  # True does not equal 0 (which is False ), this expression is False \n",
    "print (True == 1)  # 1 is equivalent to True. True == True , so the expression is True\n",
    "\n"
   ]
  },
  {
   "cell_type": "code",
   "execution_count": 135,
   "metadata": {
    "tags": []
   },
   "outputs": [
    {
     "output_type": "stream",
     "name": "stdout",
     "text": "0.0 4.505223801027239e-17\n"
    }
   ],
   "source": [
    "#Exercise 3.1\n",
    "\n",
    "s = lambda t : math.exp(-t)*math.sin(math.pi*t)\n",
    "\n",
    "print (s(0), s(1))"
   ]
  },
  {
   "cell_type": "code",
   "execution_count": 136,
   "metadata": {
    "tags": []
   },
   "outputs": [
    {
     "output_type": "stream",
     "name": "stdout",
     "text": "0.0 5.559887866514173e-21\n"
    }
   ],
   "source": [
    "#Exercise 3.2\n",
    "\n",
    "s = lambda t,a: math.exp(-a*t)*math.sin(math.pi*t)\n",
    "\n",
    "print (s(0,10), s(1,10))"
   ]
  },
  {
   "cell_type": "code",
   "execution_count": 140,
   "metadata": {},
   "outputs": [
    {
     "output_type": "execute_result",
     "data": {
      "text/plain": "4"
     },
     "metadata": {},
     "execution_count": 140
    }
   ],
   "source": [
    "#Exercise 3.9\n",
    "\n",
    "sum([1,3,5,-5])\n",
    "\n"
   ]
  },
  {
   "cell_type": "code",
   "execution_count": null,
   "metadata": {},
   "outputs": [],
   "source": []
  }
 ]
}