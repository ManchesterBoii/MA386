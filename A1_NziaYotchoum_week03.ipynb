{
 "metadata": {
  "language_info": {
   "codemirror_mode": {
    "name": "ipython",
    "version": 3
   },
   "file_extension": ".py",
   "mimetype": "text/x-python",
   "name": "python",
   "nbconvert_exporter": "python",
   "pygments_lexer": "ipython3",
   "version": "3.8.5-final"
  },
  "orig_nbformat": 2,
  "kernelspec": {
   "name": "python38564bit7176352eb4854811a1e6a61134e4dd64",
   "display_name": "Python 3.8.5 64-bit"
  }
 },
 "nbformat": 4,
 "nbformat_minor": 2,
 "cells": [
  {
   "cell_type": "markdown",
   "metadata": {},
   "source": [
    "# Author: Huram-Abi Nzia Yotchoum\n",
    "## Week 3 problems\n",
    "## Created on: 31 Aug 2019\n",
    "### Lesson 6 problem numbers: \n",
    "        HW (book)problems : 5\n",
    "        JP problems : 2\n",
    "        BP (Board) problems : 5\n",
    "### Lesson 7 problem numbers: \n",
    "        HW (book)problems : 2\n",
    "        JP problems : 5\n",
    "        BP (Board) problems : 2\n",
    " \n",
    "Assistance Received: \n",
    "        CDT Nzia Yotchoum used code from groups a,b,c,d on cocalc to help complete the problems form the Board problems for lesson 7 and 6\n"
   ]
  },
  {
   "cell_type": "code",
   "execution_count": 83,
   "metadata": {},
   "outputs": [],
   "source": [
    "import math\n",
    "import random"
   ]
  },
  {
   "cell_type": "code",
   "execution_count": 84,
   "metadata": {
    "tags": []
   },
   "outputs": [],
   "source": [
    "\n",
    "def linspace(a,b,n):\n",
    "    return [a+ i*((b-a)/(n-1)) for i in range(n)] \n"
   ]
  },
  {
   "cell_type": "code",
   "execution_count": 85,
   "metadata": {},
   "outputs": [
    {
     "output_type": "execute_result",
     "data": {
      "text/plain": "[1, 2, 9, 4, 5, 6, 7, 1, 2, 9, 4, 5, 6, 7]"
     },
     "metadata": {},
     "execution_count": 85
    }
   ],
   "source": [
    "B = [1,2,3,4,5,6,7]\n",
    "A = [1,2,9,4,5,6,7]\n",
    "A=A*2\n",
    "A\n"
   ]
  },
  {
   "cell_type": "markdown",
   "metadata": {},
   "source": [
    "## Board Problems   "
   ]
  },
  {
   "cell_type": "markdown",
   "metadata": {},
   "source": [
    "### lesson 6"
   ]
  },
  {
   "cell_type": "code",
   "execution_count": 96,
   "metadata": {
    "tags": []
   },
   "outputs": [
    {
     "output_type": "stream",
     "name": "stdout",
     "text": "1.0\n-0.0\n"
    }
   ],
   "source": [
    "#6-1\n",
    "def firstOrder(x,p1, p2):\n",
    "    \"\"\"\n",
    "    Input- initial x , and two list that contians 2 point each\n",
    "    output- first order at x\n",
    "    \"\"\"\n",
    "\n",
    "    return ((x - p2[0])/(p1[0]-p2[0])*p1[1]+(x-p1[0])/(p2[0]-p1[0])*p2[1])\n",
    "print(firstOrder(1, (2, 2), (3,3)))\n",
    "\n",
    "def secondOrder(x, p1, p2, p3):\n",
    "    \"\"\"\n",
    "    Input- initial x , and 3 list that contians 2 points each\n",
    "    output- second order at x\n",
    "    \"\"\"\n",
    "    firstTerm = ((x-p2[0])*(x-p3[0])/((p1[0]-p2[0])*(p1[0]-p3[0]))*p1[1])\n",
    "    secondTerm = ((x-p1[0])*(x-p3[0])/((p2[0]-p1[0])*(p2[0]-p3[0]))*p2[1])\n",
    "    thirdTerm = ((x-p1[0])*(x-p2[0])/((p3[0]-p1[0])*(p3[0]-p2[0]))*p3[1])\n",
    "    return firstTerm*secondTerm*thirdTerm\n",
    "print(secondOrder(1,(1,1),(2,2),(3,3)))"
   ]
  },
  {
   "cell_type": "code",
   "execution_count": 88,
   "metadata": {},
   "outputs": [
    {
     "output_type": "execute_result",
     "data": {
      "text/plain": "18.69072011758887"
     },
     "metadata": {},
     "execution_count": 88
    }
   ],
   "source": [
    "#6-2\n",
    "def right_hand(f,a,b,n):\n",
    "    \"\"\"\n",
    "    Function right_hand - estimates the integral of a function g(x) between [a,b]\n",
    "    Input:  f - an already defined function\n",
    "            a - left end point (smallest of the two end points)\n",
    "            b - right end point (larger of the two end points)\n",
    "            n - number of equally spaced points (n-1 intervals between those points)\n",
    "    Output: floating point number representing the area under the curve \n",
    "            negative numbers represent area under the x-axis\n",
    "    \"\"\"\n",
    "    x_list = linspace(a,b,n)\n",
    "    #print(x_list) - used in development\n",
    "    deltax = x_list[1]-x_list[0]\n",
    "    area = 0\n",
    "    for x in x_list[1:]:\n",
    "        y0 = f(x)\n",
    "        area += deltax*y0\n",
    "        #print(f\"f evaluated at {x:.2f} is {f(x):.2f}\") #- when developing code\n",
    "    return(area)\n",
    "f = lambda x: x**2\n",
    "right_hand(f,2,4,500)"
   ]
  },
  {
   "cell_type": "code",
   "execution_count": 89,
   "metadata": {
    "tags": []
   },
   "outputs": [
    {
     "output_type": "stream",
     "name": "stdout",
     "text": "Actual Answer is 18.666666...\nTrapezoid Rule : 18.666672021396472\n"
    }
   ],
   "source": [
    "#6-3\n",
    "def trapezoid(f,a,b,n=500):\n",
    "    \"\"\"\n",
    "    Function trapezoid - estimates the integral of a function g(x) between [a,b]\n",
    "    Input:  f - an already defined function\n",
    "            a - left end point (smallest of the two end points)\n",
    "            b - right end point (larger of the two end points)\n",
    "            n - number of equally spaced intervals (more intervals = better approx)\n",
    "    Output: floating point number representing the area under the curve \n",
    "            negative numbers represent area under the x-axis\n",
    "    \"\"\"\n",
    "    x_list = linspace(a,b,n)\n",
    "    #print(x_list) - used in development\n",
    "    deltax = x_list[1]-x_list[0]\n",
    "    area = 0\n",
    "    for i in range(len(x_list)-1):\n",
    "        area += (f(x_list[i])+f(x_list[i+1]))/2*deltax\n",
    "        #print(i)\n",
    "    return(area)\n",
    "f = lambda x: x**2\n",
    "\n",
    "print(\"Actual Answer is 18.666666...\")\n",
    "n = 500\n",
    "print(\"Trapezoid Rule :\",trapezoid(f,2,4,n))\n"
   ]
  },
  {
   "cell_type": "code",
   "execution_count": 90,
   "metadata": {},
   "outputs": [
    {
     "output_type": "execute_result",
     "data": {
      "text/plain": "41.333333333333336"
     },
     "metadata": {},
     "execution_count": 90
    }
   ],
   "source": [
    "#(6-4)\n",
    "def simpsons(f,a,b,n):\n",
    "    \"\"\"\n",
    "    Function: simpsons - estimates the integral of a function f(x) between [a,b]\n",
    "    Input: f- a pre-defined function\n",
    "           a - the left end point\n",
    "           b - the right end point\n",
    "           n - The number of subintervals\n",
    "    Output: floating point number representing an estimation of the area under \n",
    "    the curve from a to b.\n",
    "    \"\"\"\n",
    "    x_list = linspace(a,b,n)\n",
    "    deltax = (b-a)/(n-1)\n",
    "    area = 0\n",
    "    for i,x in enumerate(x_list[:-1]):\n",
    "        #print(f'f evaluated at {x:.2f} is {f(x):.2f}')\n",
    "        y0 = f(x_list[i])\n",
    "        y1 = f((x_list[i] + x_list[i+1])/2)\n",
    "        y2 = f(x_list[i+1])\n",
    "        area += ((y0+ 4*y1 + y2)/6)*deltax\n",
    "    return area\n",
    "\n",
    "f = lambda x: x**2\n",
    "simpsons(f,1,5,2)"
   ]
  },
  {
   "cell_type": "code",
   "execution_count": 91,
   "metadata": {
    "tags": []
   },
   "outputs": [
    {
     "output_type": "stream",
     "name": "stdout",
     "text": "\nIntervals | Simpson's Rule | Trapezoid Rule\n---------------------------------------------\n       10 |  1.9999037425  |  2.0003822421  \n      100 |  1.9999999937  |  2.0000000254  \n     1000 |  2.0000000000  |  2.0000000000  \n    10000 |  2.0000000000  |  2.0000000000  \n   100000 |  2.0000000000  |  2.0000000000  \n  1000000 |  2.0000000000  |  2.0000000000  \n"
    }
   ],
   "source": [
    "#6-5\n",
    "import math as m\n",
    "def compare(f,a,b):\n",
    "    \"\"\"\n",
    "    Compare two numerical intergration\n",
    "    \"\"\"\n",
    "    tens = []\n",
    "    for i in range(6):\n",
    "        tens.append('1'+\"0\"*(i+1))\n",
    "        tens[i] = int(tens[i])\n",
    "    print(\"\\nIntervals | Simpson's Rule | Trapezoid Rule\\n\" + \"-\"*45)\n",
    "    for e in tens:\n",
    "        print(f'{e:>9} | {simpsons(f,a,b,e):^14.10f} | {trapezoid(f,a,b,e):^15.10f}')\n",
    "\n",
    "\n",
    "h = lambda x: 1.5*m.sin(x)**3\n",
    "a = compare(h,0,m.pi)"
   ]
  },
  {
   "cell_type": "markdown",
   "metadata": {},
   "source": [
    "### lesson 7"
   ]
  },
  {
   "cell_type": "code",
   "execution_count": 92,
   "metadata": {
    "tags": []
   },
   "outputs": [
    {
     "output_type": "stream",
     "name": "stdout",
     "text": "The interest rate required to grow 200000 to 0 in 360 months with -1199.10 payments is 0.060\n"
    }
   ],
   "source": [
    "### Lesson 7, Problem 1\n",
    "def DDS_d(Pn, Po, r, n):\n",
    "    d = (r/12)*((Pn-Po*((1+(r/12))**n))/((1+(r/12))**n - 1))\n",
    "    return(d)\n",
    "d=DDS_d(0,200000,.06,30*12)\n",
    "\n",
    "def pnfunc(r,po,d,n):\n",
    "    \"\"\"\n",
    "    Input: r - rate\n",
    "           po - Starting Value\n",
    "           d - Input or Output monthly\n",
    "           n - number of months\n",
    "    Output: pn - Total money at month n\n",
    "    \"\"\"\n",
    "    pn = (1+r/12)**n * (po+12*d/r)-12*d/r\n",
    "    return(pn)\n",
    "\n",
    "def pn2(pn,r,po,d,n):\n",
    "    \"\"\"\n",
    "    Input: r - rate\n",
    "           po - Starting Value\n",
    "           d - Input or Output monthly\n",
    "           n - number of months\n",
    "           pn - Total money at month n\n",
    "    Output: zers - Difference between pn and formula for pn\n",
    "    \"\"\"\n",
    "    zers = pn - pnfunc(r,po,d,n)\n",
    "    return(zers)\n",
    "\n",
    "def bisection(pn,p0,d,n,tol,N0):\n",
    "    \"\"\"\n",
    "bisection(pn,p0,d,n,tol,N0) - starting parameters for the DDS we will define a function that uses\n",
    "                              these parameters within the function itself.\n",
    "Input:  pn is the final value of the investment / loan at time n\n",
    "        p0 is the initial value of the investment\n",
    "        d is the payment (loan) or addition (investment) - depending on if this is + or - and the question\n",
    "        n is the total number of months to go from p0 to pn\n",
    "        tol how close we need to get to root\n",
    "        N0 max iterations before I force a quit\n",
    " \n",
    "Output: r - interest rate required to grow p0 to pn in n months with d payment/investment.\n",
    "\"\"\"\n",
    "    a = .001\n",
    "    b = 0.999\n",
    "    pos = pn2(pn,a,p0,d,n)\n",
    "    if pn2(pn,a,p0,d,n)- pn2(pn,b,p0,d,n) > 0:\n",
    "        pos = a\n",
    "        neg = b\n",
    "    else:\n",
    "        pos = b\n",
    "        neg = a\n",
    "    count = 0\n",
    "    avg = pos + (neg-pos)/2\n",
    "    actual_tol = tol*2\n",
    "    while actual_tol> tol and count < N0:\n",
    "        #print(avg)\n",
    "        if pn2(pn,avg,p0,d,n)>0:\n",
    "            pos = avg\n",
    "        else:\n",
    "            neg = avg\n",
    "        actual_tol = abs(pos+(neg-pos)/2 - avg)\n",
    "        avg = pos + (neg-pos)/2\n",
    "        count += 1\n",
    "    if count < N0:\n",
    "        print(f\"The interest rate required to grow {p0} to {pn} in {n:} months with {d:.2f} payments is {avg:.3f}\")\n",
    "    else:\n",
    "        print(\"Exceeded max iterations\")\n",
    "    #return(pos)\n",
    "\n",
    "    \n",
    "    \n",
    "bisection(0, 200000, d, 12*30,tol=0.0001,N0 = 1000)\n"
   ]
  },
  {
   "cell_type": "code",
   "execution_count": 93,
   "metadata": {
    "tags": []
   },
   "outputs": [
    {
     "output_type": "stream",
     "name": "stdout",
     "text": "Year    0.010    0.020    0.030    0.040    0.050    0.060    0.070    0.080    0.090    0.100  \n   5      -11414   -12021   -12653   -13313   -14000   -14716   -15461   -16237   -17045   -17886 \n   7      -9993    -10747   -11549   -12404   -13312   -14279   -15305   -16396   -17554   -18782 \n   9      -9072    -9963    -10932   -11985   -13128   -14368   -15712   -17169   -18746   -20453 \n   11     -8424    -9447    -10583   -11843   -13240   -14786   -16496   -18387   -20475   -22779 \n   13     -7942    -9095    -10403   -11883   -13558   -15450   -17586   -19994   -22707   -25759 \n   15     -7571    -8854    -10339   -12056   -14038   -16324   -18956   -21984   -25462   -29452 \n   17     -7278    -8691    -10362   -12334   -14657   -17391   -20604   -24374   -28790   -33958 \n   19     -7042    -8588    -10453   -12701   -15404   -18651   -22543   -27201   -32768   -39410 \n   21     -6850    -8531    -10601   -13148   -16275   -20107   -24794   -30517   -37492   -45978 \n   23     -6693    -8511    -10798   -13671   -17270   -21771   -27389   -34385   -43083   -53875 \n   25     -6562    -8522    -11039   -14266   -18393   -23659   -30365   -38885   -49688   -63356 \n   27     -6454    -8559    -11320   -14932   -19648   -25790   -33768   -44109   -57481   -74735 \n   29     -6365    -8619    -11638   -15671   -21045   -28186   -37652   -50167   -66673   -88390 \n   31     -6291    -8699    -11993   -16485   -22593   -30877   -42079   -57188   -77511  -104780 \n   33     -6231    -8799    -12384   -17376   -24304   -33892   -47121   -65322   -90294  -124458 \n   35     -6182    -8915    -12811   -18348   -26192   -37268   -52862   -74747  -105370  -148095 \n   37     -6144    -9047    -13273   -19404   -28270   -41046   -59396   -85667  -123159  -176499 \n   39     -6114    -9194    -13771   -20551   -30557   -45270   -66832   -98321  -144155  -210648 \n   41     -6093    -9355    -14307   -21794   -33071   -49994   -75295  -112988  -168944  -251724 \n"
    }
   ],
   "source": [
    "### Lesson 7, Problem 2\n",
    "\n",
    "\n",
    "def eqn1(r,n,p0,pn):\n",
    "    d = r/12*(pn-p0*(1+r/12)**n)/((1+r/12)**n-1)\n",
    "    return(d)\n",
    "\n",
    "def spending(min_year, max_year, interval):\n",
    "    '''\n",
    "    Inputs\n",
    "        min_year: minimum year to be displayed in table\n",
    "        max_year: maximum year to be displayed in table\n",
    "        interval: gap between years to be displayed in table\n",
    "    Outputs\n",
    "        returns nothing, prints table of monthly allowable withdrawl,\n",
    "        assuming annual growth of account at top of column\n",
    "    '''\n",
    "    initial = [650000 for i in range(10)]\n",
    "    n = 10\n",
    "    b = .1\n",
    "    a = b/n\n",
    "    first_row = [i for i in linspace(a,b,n)]\n",
    "    print(\"   Year   \" + f\"{first_row[0]:^8.3f} {first_row[1]:^8.3f} {first_row[2]:^8.3f} {first_row[3]:^8.3f} {first_row[4]:^8.3f} {first_row[5]:^8.3f} {first_row[6]:^8.3f} {first_row[7]:^8.3f} {first_row[8]:^8.3f} {first_row[9]:^8.3f}\")\n",
    "    for i in range(len(initial)):\n",
    "        initial[i] *= (1+first_row[i])**min_year\n",
    "    while(min_year < max_year):\n",
    "        month_val = [0 for i in range(len(initial))]\n",
    "        for i in range(len(initial)):\n",
    "            month_val[i] = eqn1(first_row[i],min_year,initial[i],0)/12\n",
    "            initial[i] -= eqn1(first_row[i],min_year,initial[i],0)\n",
    "            initial[i] *= (1+first_row[i])**interval\n",
    "        print(f\"{min_year:^8.0f} {month_val[0]:^8.0f} {month_val[1]:^8.0f} {month_val[2]:^8.0f} {month_val[3]:^8.0f} {month_val[4]:^8.0f} {month_val[5]:^8.0f} {month_val[6]:^8.0f} {month_val[7]:^8.0f} {month_val[8]:^8.0f} {month_val[9]:^8.0f}\")\n",
    "        min_year += interval\n",
    "spending(5,42,2)"
   ]
  },
  {
   "cell_type": "markdown",
   "metadata": {},
   "source": [
    "## Jupyter  Problems"
   ]
  },
  {
   "cell_type": "markdown",
   "metadata": {},
   "source": [
    "### Lesson 6"
   ]
  },
  {
   "cell_type": "code",
   "execution_count": 94,
   "metadata": {},
   "outputs": [
    {
     "output_type": "execute_result",
     "data": {
      "text/plain": "18.642623925204106"
     },
     "metadata": {},
     "execution_count": 94
    }
   ],
   "source": [
    "# Exercise 1\n",
    "\n",
    "def left_hand(f,a,b,n):\n",
    "    \"\"\"\n",
    "    Function left_hand- estimates the integral of a function g(x) between [a,b]\n",
    "    Input:  f - an already defined function\n",
    "            a - left end point (smallest of the two end points)\n",
    "            b - right end point (larger of the two end points)\n",
    "            n - number of equally spaced points (n-1 intervals between those points)\n",
    "    Output: floating point number representing the area under the curve \n",
    "            negative numbers represent area under the x-axis\n",
    "    \"\"\"\n",
    "    x_list = linspace(a,b,n)\n",
    "    \n",
    "    deltax = x_list[1]-x_list[0]\n",
    "    area = 0\n",
    "    for x in x_list[:-1]:\n",
    "        y0 = f(x)\n",
    "        area += deltax*y0\n",
    "        \n",
    "    return(area)\n",
    "f = lambda x: x**2\n",
    "left_hand(f,2,4,500)"
   ]
  },
  {
   "cell_type": "code",
   "execution_count": 95,
   "metadata": {
    "tags": []
   },
   "outputs": [
    {
     "output_type": "stream",
     "name": "stdout",
     "text": "Actual Answer is 18.666666...\nTrapezoid Rule : 18.81481481481481\nLeft-Hand Rule : 14.81481481481481\nRigh-Hand Rule : 22.81481481481481\n"
    }
   ],
   "source": [
    "#Exercise 2\n",
    "\n",
    "def trapezoid(f,a,b,n=500):\n",
    "    \"\"\"\n",
    "    Function trapezoid - estimates the integral of a function g(x) between [a,b]\n",
    "    Input:  f - an already defined function\n",
    "            a - left end point (smallest of the two end points)\n",
    "            b - right end point (larger of the two end points)\n",
    "            n - number of equally spaced intervals (more intervals = better approx)\n",
    "    Output: floating point number representing the area under the curve \n",
    "            negative numbers represent area under the x-axis\n",
    "    \"\"\"\n",
    "    x_list = linspace(a,b,n)\n",
    "    #print(x_list) - used in development\n",
    "    deltax = x_list[1]-x_list[0]\n",
    "    area = 0\n",
    "    for i in range(len(x_list)-1):\n",
    "        area += (f(x_list[i])+f(x_list[i+1]))/2*deltax\n",
    "        #print(i)\n",
    "    return(area)\n",
    "f = lambda x: x**2\n",
    " \n",
    "print(\"Actual Answer is 18.666666...\")\n",
    "n = int(input(\"How many subintervals do you want? \"))\n",
    "print(\"Trapezoid Rule :\",trapezoid(f,2,4,n))\n",
    "print(\"Left-Hand Rule :\",left_hand(f,2,4,n))\n",
    "print(\"Righ-Hand Rule :\",right_hand(f,2,4,n))"
   ]
  },
  {
   "cell_type": "markdown",
   "metadata": {},
   "source": [
    "### Lesson 7"
   ]
  },
  {
   "cell_type": "code",
   "execution_count": 97,
   "metadata": {},
   "outputs": [
    {
     "output_type": "execute_result",
     "data": {
      "text/plain": "12.367757120676544"
     },
     "metadata": {},
     "execution_count": 97
    }
   ],
   "source": [
    "#Exercise 1\n",
    "\n",
    "d = lambda n,r,pn,po:(r/12)*((pn-po*(1+(r/12))**n)/(((1+(r/12))**n) - 1))\n",
    "\n",
    "d(1000,0.04,100000, 10)"
   ]
  },
  {
   "cell_type": "code",
   "execution_count": 98,
   "metadata": {},
   "outputs": [
    {
     "output_type": "execute_result",
     "data": {
      "text/plain": "999.9999999999999"
     },
     "metadata": {},
     "execution_count": 98
    }
   ],
   "source": [
    "#Exercise 2\n",
    "n = lambda r,d,po,pn: math.log((r*pn+12*d)/(r*po+12*d))/math.log(1+(r/12))\n",
    "\n",
    "n(0.04,d(1000,0.04,100000, 10),10,100000)"
   ]
  },
  {
   "cell_type": "code",
   "execution_count": 99,
   "metadata": {},
   "outputs": [],
   "source": [
    "# EXERCISE 3\n",
    "'''\n",
    "Create a function g(r) as described above. We will use this in class to adjust the bisection algorithm in order to find r given the other parameters.\n",
    "'''\n",
    "def func(r,po,d,n):\n",
    "\n",
    "    return (1+r/12)**n * (po+12*d/r)-12*d/r "
   ]
  },
  {
   "cell_type": "code",
   "execution_count": 100,
   "metadata": {},
   "outputs": [
    {
     "output_type": "execute_result",
     "data": {
      "text/plain": "10.00000000000091"
     },
     "metadata": {},
     "execution_count": 100
    }
   ],
   "source": [
    "# Exercise 4\n",
    "po = lambda r,n,pn,d:  ((pn+(12*d/r))/(1+(r/12))**n)-(12*d/r)\n",
    "\n",
    "\n",
    "po(0.04,n(0.04,d(1000,0.04,100000, 10),10,100000),100000,d(1000,0.04,100000, 10))"
   ]
  },
  {
   "cell_type": "code",
   "execution_count": 101,
   "metadata": {},
   "outputs": [
    {
     "output_type": "execute_result",
     "data": {
      "text/plain": "100000.0"
     },
     "metadata": {},
     "execution_count": 101
    }
   ],
   "source": [
    "#Exercise 5\n",
    "\n",
    "pn = lambda r,n,po,d: ((1+(r/12))**n)*(po+(12*d/r))-(12*d/r)\n",
    "\n",
    "pn(0.04,n(0.04,d(1000,0.04,100000, 10),10,100000),po(0.04,n(0.04,d(1000,0.04,100000, 10),10,100000),100000,d(1000,0.04,100000, 10)),d(1000,0.04,100000, 10))"
   ]
  },
  {
   "cell_type": "markdown",
   "metadata": {},
   "source": [
    "## Book Suggested Problems"
   ]
  },
  {
   "cell_type": "code",
   "execution_count": 102,
   "metadata": {
    "tags": []
   },
   "outputs": [
    {
     "output_type": "stream",
     "name": "stdout",
     "text": "function: 26.1964 , Answer: 26.1964, given points (-7,-4) and (17,6.5)\n"
    }
   ],
   "source": [
    "# Exercise 3.17\n",
    "\n",
    "def pathlen(X_lst,Y_lst):\n",
    "    '''\n",
    "    Function Pathlen - Find the path lenth given a set of points \n",
    "    Input :\n",
    "        X_lst - list of X points \n",
    "        Y_lst - list of Y point \n",
    "    Output :\n",
    "        L - Length of the path \n",
    "    '''\n",
    "    assert len(X_lst)==len(Y_lst)\n",
    "\n",
    "    L = 0 \n",
    "    for i in range(len(X_lst)-1):\n",
    "        Dx = (X_lst[i+1]-X_lst[i])**2\n",
    "        Dy = (Y_lst[i+1]-Y_lst[i])**2\n",
    "        L += math.sqrt( Dx + Dy )\n",
    "    return L\n",
    "\n",
    "def test_pathlen(X_lst,Y_lst):\n",
    "    \n",
    "    print( f\"function: {pathlen(X_lst,Y_lst) :.4f} , Answer: 26.1964, given points ({X_lst[0]},{Y_lst[0]}) and ({X_lst[1]},{Y_lst[1]})\")\n",
    "test_pathlen([-7,17],[-4,6.5])\n"
   ]
  },
  {
   "cell_type": "code",
   "execution_count": 103,
   "metadata": {
    "tags": []
   },
   "outputs": [
    {
     "output_type": "stream",
     "name": "stdout",
     "text": "Actual Pi: 3.14159 Approximation: 2.12132 Error: 1.02027\nActual Pi: 3.14159 Approximation: 2.67878 Error: 0.46281\nActual Pi: 3.14159 Approximation: 2.92635 Error: 0.21524\nActual Pi: 3.14159 Approximation: 3.03853 Error: 0.10306\nActual Pi: 3.14159 Approximation: 3.09126 Error: 0.05033\nActual Pi: 3.14159 Approximation: 3.11674 Error: 0.02486\nActual Pi: 3.14159 Approximation: 3.12924 Error: 0.01235\nActual Pi: 3.14159 Approximation: 3.13544 Error: 0.00616\nActual Pi: 3.14159 Approximation: 3.13852 Error: 0.00307\nActual Pi: 3.14159 Approximation: 3.14006 Error: 0.00154\nActual Pi: 3.14159 Approximation: 3.14083 Error: 0.00077\nActual Pi: 3.14159 Approximation: 3.14121 Error: 0.00038\nActual Pi: 3.14159 Approximation: 3.14140 Error: 0.00019\nActual Pi: 3.14159 Approximation: 3.14150 Error: 0.00010\nActual Pi: 3.14159 Approximation: 3.14154 Error: 0.00005\nActual Pi: 3.14159 Approximation: 3.14157 Error: 0.00002\nActual Pi: 3.14159 Approximation: 3.14158 Error: 0.00001\nActual Pi: 3.14159 Approximation: 3.14159 Error: 0.00001\nActual Pi: 3.14159 Approximation: 3.14159 Error: 0.00000\n"
    }
   ],
   "source": [
    "# Exercise 3.18\n",
    "\n",
    "def approxpi():\n",
    "    \"\"\"\n",
    "    Procedure approxpi - Approximate pi using path lenght function\n",
    "    Input:\n",
    "       None\n",
    "    Ouptut:\n",
    "        print error in Aproximation\n",
    "    \"\"\"\n",
    "\n",
    "    n_vals = [2**k for k in range(2,21)]\n",
    "\n",
    "    x = lambda i,n : .5* math.cos(2*math.pi*i/n)\n",
    "    y = lambda i,n : .5* math.sin(2*math.pi*i/n)\n",
    "\n",
    "    for n in n_vals:\n",
    "        xlst = [x(i,n) for i in range(n)]\n",
    "        ylst = [y(i,n) for i in range(n)]\n",
    "\n",
    "        l = pathlen(xlst,ylst)\n",
    "\n",
    "        print(f\"Actual Pi: {math.pi:.5f} Approximation: {l:.5f} Error: {abs(l-math.pi):.5f}\")\n",
    "\n",
    "approxpi()"
   ]
  },
  {
   "cell_type": "code",
   "execution_count": 104,
   "metadata": {
    "tags": []
   },
   "outputs": [
    {
     "output_type": "stream",
     "name": "stdout",
     "text": "Area of a triangle with vertices at (1,2),(6,5),and (4,7) is 8.0\nArea of a quadrilateral with vertices at (1,2),(6,5),(4,7),and (-2,5) is 20.0\nArea of a Pentagon with vertices at (1,2),(6,5),(4,7),(-2,5),and (-4,-5) is 38.0\n"
    }
   ],
   "source": [
    "# Exercise 3.19\n",
    "\n",
    "def polygon_area(Xlst,Ylst):\n",
    "        '''\n",
    "        Function polygon_area: find the area of a polygon\n",
    "        Input :\n",
    "            X_lst - list of X points \n",
    "            Y_lst - list of Y point \n",
    "        Output :\n",
    "            area of a polygon\n",
    "    '''\n",
    "\n",
    "        assert len(Xlst)==len(Ylst)\n",
    "\n",
    "        sum1= Xlst[-1]*Ylst[0]\n",
    "        sum2= Ylst[-1]*Xlst[0]\n",
    "\n",
    "        for i in range(len(Xlst)-1):\n",
    "            sum1+=Xlst[i]*Ylst[i+1]\n",
    "            sum2+=Ylst[i]*Xlst[i+1]\n",
    "\n",
    "        return .5 * abs(sum1-sum2)\n",
    "\n",
    "\n",
    "print (f\"Area of a triangle with vertices at (1,2),(6,5),and (4,7) is {polygon_area([1,6,4],[2,5,7])}\")\n",
    "print (f\"Area of a quadrilateral with vertices at (1,2),(6,5),(4,7),and (-2,5) is {polygon_area([1,6,4,-2],[2,5,7,5])}\")\n",
    "print (f\"Area of a Pentagon with vertices at (1,2),(6,5),(4,7),(-2,5),and (-4,-5) is {polygon_area([1,6,4,-2,-4],[2,5,7,5,-5])}\")\n"
   ]
  },
  {
   "cell_type": "code",
   "execution_count": 105,
   "metadata": {
    "tags": []
   },
   "outputs": [
    {
     "output_type": "stream",
     "name": "stdout",
     "text": "Hello, World!\nHello, World!\nHello, World!\nPython, Function!\n"
    }
   ],
   "source": [
    "# Exercise 3.20\n",
    "\n",
    "def hw1():\n",
    "    return \"Hello, World!\"\n",
    "def hw2():\n",
    "    print(\"Hello, World!\")\n",
    "def hw3(str1,str2):\n",
    "    return str1+str2\n",
    "\n",
    "print(hw1())\n",
    "hw2()\n",
    "print(hw3(\"Hello, \", \"World!\"))\n",
    "print(hw3(\"Python, \", \"Function!\"))"
   ]
  },
  {
   "cell_type": "code",
   "execution_count": 106,
   "metadata": {
    "tags": []
   },
   "outputs": [
    {
     "output_type": "stream",
     "name": "stdout",
     "text": "X \t F(x)\n-5.000 \t 0.00000\n-3.889 \t 0.00021\n-2.778 \t 0.00842\n-1.667 \t 0.09948\n-0.556 \t 0.34189\n0.556 \t 0.34189\n1.667 \t 0.09948\n2.778 \t 0.00842\n3.889 \t 0.00021\n5.000 \t 0.00000\n"
    }
   ],
   "source": [
    "#EXERCISE 3.22\n",
    "\n",
    "g = lambda x,m,s: (1/(math.sqrt(2*math.pi)*s))*math.exp(-.5*((x-m)/s)**2)\n",
    "\n",
    "ms = 0\n",
    "ss = 1\n",
    "n=10\n",
    "\n",
    "a = ms-5*ss\n",
    "b = ms+5*ss\n",
    "\n",
    "vals = linspace(a,b,n)\n",
    "print (\"X \\t F(x)\")\n",
    "for x in vals:\n",
    "    print ( f\"{x:.3f} \\t {g(x,ms,ss):.5f}\")"
   ]
  },
  {
   "cell_type": "code",
   "execution_count": 107,
   "metadata": {
    "tags": []
   },
   "outputs": [
    {
     "output_type": "stream",
     "name": "stdout",
     "text": "here is the temp in celcius: 18.5\n"
    }
   ],
   "source": [
    "#Exercise 4.1\n",
    "\n",
    "num = float(input(\"enter any temp in Fahrenheit:\"))\n",
    "\n",
    "C_e = lambda f: (f-30)/2\n",
    "\n",
    "print (f\"here is the temp in celcius: {C_e(num)}\")\n",
    "\n"
   ]
  },
  {
   "cell_type": "code",
   "execution_count": 108,
   "metadata": {
    "tags": []
   },
   "outputs": [
    {
     "output_type": "stream",
     "name": "stdout",
     "text": "the position is : -35680.5\n"
    }
   ],
   "source": [
    "#Excercise 4.9\n",
    "\n",
    "V_o = float(input(\"enter velocity in m/s\"))\n",
    "t = float(input(\"enter time of travel\"))\n",
    "g = 9.81\n",
    "\n",
    "print(f\"the position is : {V_o * t - .5*g*(t**2)}\")"
   ]
  },
  {
   "cell_type": "code",
   "execution_count": null,
   "metadata": {},
   "outputs": [],
   "source": []
  }
 ]
}