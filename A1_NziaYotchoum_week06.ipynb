{
 "cells": [
  {
   "source": [
    "# Author: Huram-Abi Nzia Yotchoum\n",
    "## Week 6 problems\n",
    "## Created on: 25 September 2020\n",
    "### Lesson 13/14\n",
    "Mathematical Goals: clustering algorithm, proximity calculations, classification, tensor mathematics\n",
    "Computational / Programming Goals: aggregate functions in numpy, understanding axis in numpy, decomposition,\n",
    "data structures to assist in solving problems, creating your own data, broadcasting"
   ],
   "cell_type": "markdown",
   "metadata": {}
  },
  {
   "cell_type": "code",
   "execution_count": null,
   "metadata": {
    "collapsed": false
   },
   "outputs": [],
   "source": [
    "import numpy as np\n",
    "import random\n",
    "import matplotlib.pyplot as plt"
   ]
  },
  {
   "cell_type": "code",
   "execution_count": null,
   "metadata": {
    "collapsed": false
   },
   "outputs": [],
   "source": [
    "\n",
    "# assignment step\n",
    "dat = np.genfromtxt('xyData.csv',delimiter =',',skip_header=1)\n",
    "\n",
    "def initialize(dat, k):\n",
    "    \"\"\"\n",
    "    Function that takes in data and returns k centers\n",
    "    Input: data\n",
    "    Output: random centers\n",
    "    \"\"\"\n",
    "    newcol = np.random.randint(0,k,len(dat))\n",
    "    centers = []\n",
    "    for i in range(k):\n",
    "        cluster = dat[newcol==i]\n",
    "        centers.append(np.mean(cluster, axis=0))\n",
    "        \n",
    "    centers = np.array(centers)\n",
    "    return centers\n",
    "\n",
    "initialize(dat, 3)"
   ]
  },
  {
   "cell_type": "code",
   "execution_count": null,
   "metadata": {
    "collapsed": false
   },
   "outputs": [],
   "source": [
    "def assign(dat,cent,k):\n",
    "    \"\"\"\n",
    "    Input: data, centers\n",
    "    Output: Which data goes in which cluster\n",
    "    \"\"\"\n",
    "    dat1 = dat.reshape(len(dat),1,2) #tensor\n",
    "    dist = dat1 - cent\n",
    "    calc = dist[:,:,0]**2+dist[:,:,1]**2\n",
    "    closest = np.argmin(calc, axis=1)\n",
    "    clusters = []\n",
    "    for i in range(k):\n",
    "        clusters.append(dat[closest==i])\n",
    "        \n",
    "    clusters = np.array(clusters)\n",
    "    return clusters\n",
    "\n",
    "k = 3\n",
    "dat = np.genfromtxt('xyData.csv',delimiter =',',skip_header=1)\n",
    "cent = initialize(dat, k)\n",
    "assign(dat, cent , k)\n"
   ]
  },
  {
   "cell_type": "code",
   "execution_count": null,
   "metadata": {
    "cocalc": {
     "outputs": {
      "0": {
       "name": "input",
       "opts": {
        "password": false,
        "prompt": "Enter the number of clusters k you would like: "
       },
       "output_type": "stream",
       "value": "10"
      }
     }
    },
    "collapsed": false,
    "scrolled": true,
    "tags": []
   },
   "outputs": [],
   "source": [
    "def newcent(clusters, k):\n",
    "    centers = []\n",
    "    for cluster in clusters:\n",
    "        centers.append(np.mean(cluster, axis=0))\n",
    "    centers = np.array(centers)\n",
    "    return(centers)\n",
    "\n",
    "\n",
    "def plot_this_stuff(tol = .01):\n",
    "    #initializing and setting up data to plot\n",
    "    dat = np.genfromtxt('xyData.csv',delimiter =',',skip_header=1)\n",
    "    k = int(input(\"Enter the number of clusters k you would like: \"))\n",
    "    \n",
    "    # assign random centers to the data\n",
    "    #start = initialize(dat)\n",
    "    \n",
    "    #make random clusters... Put a for loop here based on k? (Nzia thinks the k modifier should go in intialize())\n",
    "    #clust1,clust2 = assign(dat,start)    \n",
    "    #cent2 = newcent(clust1,clust2)\n",
    "    #cent2 = newcent(clust1,clust2)\n",
    "    #clust1,clust2 = assign(dat,cent2)\n",
    "    #\n",
    "    \n",
    "    #methods that plot the information\n",
    "    \n",
    "    cent = initialize(dat,k)\n",
    "    clusters = assign(dat,cent,k)\n",
    "    new_cent = np.zeros_like(cent)\n",
    "    diff = (new_cent[:,0] - cent[:,0])**2 + (new_cent[:,1] - cent[:,1])**2\n",
    "    while(sum(diff) > tol):        \n",
    "        for i,cluster in enumerate(clusters):\n",
    "            rgb = (random.random(), random.random(), random.random())\n",
    "            plt.scatter(cluster[:,0], cluster[:,1],color=[rgb],s=50)\n",
    "            plt.scatter(cent[i,0],cent[i,1],color=[rgb],s=125)\n",
    "        plt.show()\n",
    "        clusters = assign(dat,cent,k)\n",
    "        new_cent = newcent(clusters,k)\n",
    "        diff  = (new_cent[:,0] - cent[:,0])**2 + (new_cent[:,1] - cent[:,1])**2\n",
    "        print(sum(diff))\n",
    "        cent = new_cent\n",
    "    \n",
    "    \n",
    "    for i,cluster in enumerate(clusters):\n",
    "        rgb = (random.random(), random.random(), random.random())\n",
    "        plt.scatter(cluster[:,0], cluster[:,1],color=[rgb],s=50)\n",
    "        plt.scatter(cent[i,0],cent[i,1],color=[rgb],s=125)\n",
    "    plt.show()\n",
    "plot_this_stuff()"
   ]
  },
  {
   "cell_type": "code",
   "execution_count": null,
   "metadata": {},
   "outputs": [],
   "source": []
  }
 ],
 "metadata": {
  "kernelspec": {
   "display_name": "Python 3.8.5 64-bit",
   "language": "python",
   "metadata": {
    "cocalc": {
     "description": "Python 3 programming language",
     "priority": 100,
     "url": "https://www.python.org/"
    }
   },
   "name": "python_defaultSpec_1601061843950"
  },
  "language_info": {
   "codemirror_mode": {
    "name": "ipython",
    "version": 3
   },
   "file_extension": ".py",
   "mimetype": "text/x-python",
   "name": "python",
   "nbconvert_exporter": "python",
   "pygments_lexer": "ipython3",
   "version": "3.8.5-final"
  }
 },
 "nbformat": 4,
 "nbformat_minor": 4
}