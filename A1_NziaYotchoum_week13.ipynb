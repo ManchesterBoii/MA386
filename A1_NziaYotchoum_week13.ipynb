{
 "cells": [
  {
   "cell_type": "markdown",
   "metadata": {},
   "source": [
    "# Author: Huram-Abi Nzia Yotchoum\n",
    "## Week 13: M/M/1 \n",
    "## Created on:  12 November 2020\n",
    "\n",
    " \n"
   ]
  },
  {
   "cell_type": "code",
   "execution_count": 73,
   "metadata": {},
   "outputs": [],
   "source": [
    "import numpy as np\n",
    "import matplotlib.pyplot as plt\n",
    "np.random.seed(220)"
   ]
  },
  {
   "cell_type": "markdown",
   "metadata": {},
   "source": [
    "## Die Object\n"
   ]
  },
  {
   "cell_type": "code",
   "execution_count": 70,
   "metadata": {
    "tags": []
   },
   "outputs": [],
   "source": [
    "class EventList:\n",
    "    def __init__(self):\n",
    "        self.time = []\n",
    "        self.entity = []\n",
    "        self.event = []\n",
    "    \n",
    "    def __str__(self):\n",
    "        res = \"\"\n",
    "        for i in range(len(self.time)):\n",
    "            res+=str(i)+\":\"+ f\" {float(self.time[i]):.3f} , {self.entity[i]} ,{self.event[i]} \"+\"\\n\"\n",
    "        return res\n",
    "    \n",
    "    def __repr__(self):\n",
    "        res = \"\"\n",
    "        for i in range(len(self.time)):\n",
    "            res+=str(i)+\":\"+ f\" {self.time[i]:.3f} , {self.entity[i]} ,{self.event[i]} \"+\"\\n\"\n",
    "        return res\n",
    "    \n",
    "    def addEvent(self,time,entity,event):\n",
    "        \"\"\"\n",
    "        Adds an event to the EventList object. The data stored is the time the event occurred, the entity that did something?, and the event that happened (eg time 0, server, served a customer)\n",
    "        \"\"\"\n",
    "\n",
    "        curr = time\n",
    "        i = 0\n",
    "        self.time.append(time)\n",
    "        self.time.sort()\n",
    "        idx = self.time.index(curr)\n",
    "        self.entity.insert(idx,entity)\n",
    "        self.event.insert(idx,event)\n",
    "        \n",
    "    def next(self):\n",
    "        \"\"\"\n",
    "        Modifies the event list, such that the first event is deleted and then returns the event after it. (eg if event list is [(0, server, served customer A), (2.344, server, served customer B)], the first element is deleted and the second element is returned)\n",
    "        \"\"\"\n",
    "        time = self.time[0]\n",
    "        entity = self.entity[0]\n",
    "        event = self.event[0]\n",
    "        del (self.time[0])\n",
    "        del (self.entity[0])\n",
    "        del (self.event[0])\n",
    "        return time,entity,event\n",
    "\n",
    "    def __len__(self):\n",
    "        return len(self.event)\n"
   ]
  },
  {
   "cell_type": "code",
   "execution_count": 75,
   "metadata": {},
   "outputs": [],
   "source": [
    "class server:\n",
    "    def __init__(self, serviceRate, busy=False ):\n",
    "        self.serviceRate = serviceRate\n",
    "        self.busy = busy\n",
    "        self.customer = None\n",
    "\n",
    "    def serve(self,init_time):\n",
    "        self.customer = not None\n",
    "        self.busy = True\n",
    "        final_time = np.random.exponential(self.serviceRate,1)[0] + init_time\n",
    "        return final_time\n",
    "\n"
   ]
  },
  {
   "cell_type": "code",
   "execution_count": 76,
   "metadata": {},
   "outputs": [
    {
     "data": {
      "text/plain": [
       "array([0.01116312])"
      ]
     },
     "execution_count": 76,
     "metadata": {},
     "output_type": "execute_result"
    }
   ],
   "source": [
    "np.random.seed(220)\n",
    "np.random.exponential(1/40,1)"
   ]
  },
  {
   "cell_type": "code",
   "execution_count": 88,
   "metadata": {},
   "outputs": [],
   "source": [
    "def create_customer_Arrival(arrival_rate):\n",
    "    #np.random.seed(220)\n",
    "    t = 0\n",
    "    cust = 1\n",
    "    arriv = 0\n",
    "    customerlist = EventList()\n",
    "    customerlist.addEvent(arriv,f\"{cust}\",\"Arrival\")\n",
    "    while arriv <= 100:\n",
    "        cust+=1\n",
    "        rand_exp = np.random.exponential(arrival_rate,1)[0]\n",
    "        arriv = rand_exp+t\n",
    "        t+= rand_exp\n",
    "        customerlist.addEvent(arriv,f\"{cust}\",\"Arrival\")\n",
    "    \n",
    "    return customerlist,cust\n",
    "    \n",
    "    \n",
    "    "
   ]
  },
  {
   "cell_type": "code",
   "execution_count": 98,
   "metadata": {
    "tags": []
   },
   "outputs": [],
   "source": [
    "def sim(trialnum = 10):\n",
    "    waiting_time = []\n",
    "    numcustomers = []\n",
    "    for trial in range(trialnum):\n",
    "\n",
    "        Queue = EventList()\n",
    "        customer_events, num_cust = create_customer_Arrival(5)\n",
    "        serving = server(10)\n",
    "        numcustomers.append(num_cust)\n",
    "        while len(customer_events):\n",
    "            arrival_time, cust , event = customer_events.next()\n",
    "            if event is \"Arrival\":\n",
    "                if not serving.busy:\n",
    "                    final_time = serving.serve(arrival_time)\n",
    "                    customer_events.addEvent(final_time, cust, \"Departure\")\n",
    "\n",
    "                elif serving.busy:\n",
    "                    Queue.addEvent(arrival_time, cust , event)\n",
    "            elif event is \"Departure\":\n",
    "                serving.busy = False\n",
    "                if Queue.event:\n",
    "                    Qtime, cust , event = Queue.next()\n",
    "                    waiting_time.append(abs(arrival_time-Qtime))\n",
    "                    final_time = serving.serve(Qtime)\n",
    "                    customer_events.addEvent(final_time, cust, \"Departure\")\n",
    "\n",
    "    return np.array(waiting_time).mean(), np.array(numcustomers).mean()\n",
    "\n",
    "\n",
    "h = sim(1000)        \n",
    "\n",
    "\n"
   ]
  },
  {
   "cell_type": "code",
   "execution_count": 103,
   "metadata": {},
   "outputs": [
    {
     "name": "stdout",
     "output_type": "stream",
     "text": [
      "Average Waiting Time: 8.626\n",
      "Average customer served: 22.021\n"
     ]
    }
   ],
   "source": [
    "print(f\"Average Waiting Time: {h[0]:.3f}\")\n",
    "print(f\"Average customer served: {h[1]:.3f}\")"
   ]
  }
 ],
 "metadata": {
  "kernelspec": {
   "display_name": "Python 3",
   "language": "python",
   "name": "python3"
  },
  "language_info": {
   "codemirror_mode": {
    "name": "ipython",
    "version": 3
   },
   "file_extension": ".py",
   "mimetype": "text/x-python",
   "name": "python",
   "nbconvert_exporter": "python",
   "pygments_lexer": "ipython3",
   "version": "3.10.6 (tags/v3.10.6:9c7b4bd, Aug  1 2022, 21:53:49) [MSC v.1932 64 bit (AMD64)]"
  },
  "orig_nbformat": 2,
  "vscode": {
   "interpreter": {
    "hash": "8a03e86636c778680af9e6e88ed809621a1145718c8f08a98d41da2e084e8f0a"
   }
  }
 },
 "nbformat": 4,
 "nbformat_minor": 2
}
