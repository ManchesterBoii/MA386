{
 "cells": [
  {
   "cell_type": "code",
   "execution_count": 1,
   "metadata": {
    "collapsed": false
   },
   "outputs": [
   ],
   "source": [
    "import numpy as np\n",
    "\n",
    "class EventList:\n",
    "    def __init__(self):\n",
    "        self.time = []\n",
    "        self.entity = []\n",
    "        self.event = []\n",
    "        self.prevtime = 0\n",
    "    \n",
    "    def __str__(self):\n",
    "        res = str(self.prevtime)+ \"\\n\"\n",
    "        res += \"# : Time  \\t     Customer \\t\\t       Event \" +\"\\n\"\n",
    "        for i in range(len(self.time)):\n",
    "            res+=f\"{i:<2.0f}\"+\":\"+\" {:<8.3f}\\t {:<8} \\t{:>10}\".format(float(self.time[i]),str(self.entity[i]),self.event[i])+\"\\n\"\n",
    "        return res\n",
    "    \n",
    "    def __repr__(self):\n",
    "        res = \"\"\n",
    "        for i in range(len(self.time)):\n",
    "            res+=f\"{i:<2.0f}\"+\":\"+\" {:<8.3f}\\t {:<8} \\t{:>10}\".format(float(self.time[i]),str(self.entity[i]),self.event[i])+\"\\n\"\n",
    "        return res\n",
    "    \n",
    "    def addEvent(self,time,entity,event):\n",
    "        \"\"\"\n",
    "        Adds an event to the EventList object. The data stored is the time the event occurred, the entity that did something?, and the event that happened (eg time 0, server, served a customer)\n",
    "        \"\"\"\n",
    "        curr = time\n",
    "        self.time.append(time)\n",
    "        self.time.sort()\n",
    "        idx = self.time.index(curr)\n",
    "        self.entity.insert(idx,entity)\n",
    "        self.event.insert(idx,event)\n",
    "        \n",
    "    def next(self):\n",
    "        \"\"\"\n",
    "        Modifies the event list, such that the first event is deleted and then returns the event after it. (eg if event list is [(0, server, served customer A), (2.344, server, served customer B)], the first element is deleted and the second element is returned)\n",
    "        \"\"\"\n",
    "        time = self.time[0]\n",
    "        entity = self.entity[0]\n",
    "        event = self.event[0]\n",
    "        self.prevtime = time\n",
    "        del (self.time[0])\n",
    "        del (self.entity[0])\n",
    "        del (self.event[0])\n",
    "        return time,entity,event\n",
    "\n",
    "    def __len__(self):\n",
    "        return len(self.event)"
   ]
  },
  {
   "cell_type": "code",
   "execution_count": 2,
   "metadata": {
    "collapsed": false
   },
   "outputs": [
   ],
   "source": [
    "class Customer:\n",
    "    '''\n",
    "    Customer object, only attribute is arrival time\n",
    "    '''\n",
    "    def __init__(self, arriv_time, number):\n",
    "        '''\n",
    "        arriv_time - when customer arrives at store\n",
    "        number - used to identify customer\n",
    "        '''\n",
    "        self.Atime = arriv_time\n",
    "        self.number = number\n",
    "        self.Dtime = -1\n",
    "        \n",
    "    \n",
    "    def __repr__(self):\n",
    "        return f\"Customer({self.time:.3f})\"\n",
    "    \n",
    "    def __str__(self):\n",
    "        return f\"{self.number}:{self.Atime:.3f},{self.Dtime:.3f}\"\n",
    "    \n",
    "    def getTime(self):\n",
    "        '''\n",
    "        Returns arrival time\n",
    "        '''\n",
    "        return self.Atime\n",
    "    \n",
    "    def __eq__(self,other):\n",
    "        if type(other) != Customer:\n",
    "            return False\n",
    "        return self.number == other.number\n"
   ]
  },
  {
   "cell_type": "code",
   "execution_count": 3,
   "metadata": {
    "collapsed": false
   },
   "outputs": [
   ],
   "source": [
    "class Server:\n",
    "    def __init__(self, server_number, service_rate):\n",
    "        '''\n",
    "        server_number - used as a name to identify server\n",
    "        service_rate - how fast server operates\n",
    "        '''\n",
    "        self.busy = False\n",
    "        self.number = server_number\n",
    "        self.rate = service_rate\n",
    "        self.customer = None\n",
    "        self.customer_number = None\n",
    "            \n",
    "    \n",
    "    def __repr__(self):\n",
    "        return f\"Server {self.number}: Customer=>{self.customer}; Busy=>{self.busy}; ServiceRate=>{1/self.rate:.3f}\"\n",
    "            \n",
    "    \n",
    "    def isBusy(self):\n",
    "        '''\n",
    "        Boolean of whether or not server is busy\n",
    "        '''\n",
    "        return self.busy\n",
    "        \n",
    "    def freeUp(self):\n",
    "        '''\n",
    "        Makes server not busy\n",
    "        '''\n",
    "        self.busy = False\n",
    "        self.customer = None\n",
    "        self.customer_number = None\n",
    "        \n",
    "    def makeBusy(self):\n",
    "        '''\n",
    "        Changes server to busy\n",
    "        '''\n",
    "        self.busy = True\n",
    "        \n",
    "    def serve(self, cust, arrive_time):\n",
    "        '''\n",
    "        Used to schedule a customer's departure\n",
    "        Inputs:\n",
    "            cust - customer\n",
    "            arrive_time - time customer gets to server\n",
    "            serve_rate - how fast server serves\n",
    "        Outputs:\n",
    "            A scheduled time based on arrival time, server rate, and the\n",
    "            exponential distribution\n",
    "        '''\n",
    "        self.makeBusy()\n",
    "        self.customer = cust\n",
    "        self.customer_number = cust.number\n",
    "        np.random.seed(220)\n",
    "        time_to_serve = np.random.exponential(self.rate,1)[0]\n",
    "        cust.Dtime = cust.Atime + time_to_serve\n",
    "        return cust.Dtime\n",
    "\n",
    "    def __lt__(self,other):\n",
    "        return self.rate < other.rate\n",
    "    \n",
    "    def __gt__(self,other):\n",
    "        return self.rate > other.rate"
   ]
  },
  {
   "cell_type": "code",
   "execution_count": 4,
   "metadata": {
    "collapsed": false
   },
   "outputs": [
   ],
   "source": [
    "def create_customer_Arrival(arrival_rate, max_time):\n",
    "    '''\n",
    "    Creates an EventList object of customers' scheduled arrivals\n",
    "    Inputs:\n",
    "        arrival_rate - how fast customers arrive (using the exponential distribution)\n",
    "        max_time - for how long customers arrive\n",
    "    Outputs:\n",
    "        EventList of customers' scheduled arrivals\n",
    "    '''\n",
    "    np.random.seed(220)\n",
    "    t = 0\n",
    "    cust = 1\n",
    "    arriv = 0\n",
    "    customerlist = EventList()\n",
    "    customerlist.addEvent(arriv,Customer(arriv,cust),\"Arrival\")\n",
    "    while arriv <= max_time:\n",
    "        cust+=1\n",
    "        rand_exp = np.random.exponential(arrival_rate,1)[0]\n",
    "        arriv = rand_exp+t\n",
    "        t+= rand_exp\n",
    "        customerlist.addEvent(arriv,Customer(arriv,cust),\"Arrival\")\n",
    "    \n",
    "    return customerlist"
   ]
  },
  {
   "cell_type": "code",
   "execution_count": 5,
   "metadata": {
    "collapsed": false
   },
   "outputs": [
   ],
   "source": [
    "def is_available(server_lst):\n",
    "    \"\"\"\n",
    "    Takes in a list of servers and outputs a bool determining whether a server is available and/or the index of that server in the list\n",
    "    input: server_lst- a list of server objects\n",
    "    output:  [False ] or [True, index of server]\n",
    "    \n",
    "    \"\"\"\n",
    "\n",
    "    for i, server in enumerate(server_lst):\n",
    "        if not server.isBusy():\n",
    "            return [True, i]\n",
    "    else:       \n",
    "        return [False]\n",
    "    "
   ]
  },
  {
   "cell_type": "code",
   "execution_count": 6,
   "metadata": {
    "collapsed": false
   },
   "outputs": [
   ],
   "source": [
    "def find_customer_server(server_lst,customer):\n",
    "    '''\n",
    "    Takes in a list of server objects and a customer object\n",
    "    input: server_lst - list of server objects\n",
    "           customer - customer object\n",
    "    output: Server object that contains the server\n",
    "    \n",
    "    '''\n",
    "    \n",
    "\n",
    "    for server in server_lst:\n",
    "        if customer.number == server.customer_number:\n",
    "            return server\n",
    "        "
   ]
  },
  {
   "cell_type": "code",
   "execution_count": 7,
   "metadata": {
    "collapsed": false,
    "tags": [
    ]
   },
   "outputs": [
   ],
   "source": [
    "def simulateShop(filename, num_servers, server_rates):\n",
    "    '''\n",
    "    Writes a simulation of a queue to specified outfile\n",
    "    given a specified number of servers and corresponding\n",
    "    server rates.\n",
    "    Inputs:\n",
    "        filename - string that you want to output file to be called\n",
    "        num_servers - number of servers in the \"shop\"\n",
    "        server_rates - service rates for the servers\n",
    "    Outputs:\n",
    "        No output, writes simulation to file\n",
    "    '''\n",
    "    outfile =  open(filename+\".txt\",\"w+\")\n",
    "    Queue = EventList()\n",
    "    customer_event = create_customer_Arrival(5,100)\n",
    "    \n",
    "    server_lst = []\n",
    "    for x in range(num_servers):\n",
    "        server_lst.append(Server(x+1,server_rates[x]))\n",
    "    while len(customer_event):\n",
    "\n",
    "        event_time, customer, event = customer_event.next()\n",
    "\n",
    "        if event == \"Arrival\":\n",
    "            available = is_available(sorted(server_lst))\n",
    "\n",
    "            if available[0]:\n",
    "                server = server_lst[available[1]]\n",
    "                end_time = server.serve(customer,event_time)\n",
    "                customer_event.addEvent(end_time,customer,\"Departure\")\n",
    "            elif not available[0]:\n",
    "                Queue.addEvent(event_time , customer, event)\n",
    "        elif event == \"Departure\":\n",
    "            server = find_customer_server(server_lst,customer)\n",
    "            server.freeUp()\n",
    "            if len(Queue):\n",
    "                event_time , customer, event = Queue.next()\n",
    "                available = is_available(sorted(server_lst))\n",
    "                server = server_lst[available[1]]\n",
    "                end_time = server.serve(customer,event_time)\n",
    "                customer_event.addEvent(end_time,customer,\"Departure\")\n",
    "        print(customer_event, file= outfile)\n",
    "        for x in server_lst:\n",
    "            print(x, file = outfile)\n",
    "        print(\"=====Customer Line ===============\\n\", file = outfile)\n",
    "        if event_time >=100:\n",
    "            break\n",
    "\n",
    "\n",
    "\n",
    "    outfile.close()"
   ]
  },
  {
   "cell_type": "code",
   "execution_count": 8,
   "metadata": {
    "cocalc": {
     "outputs": {
      "0": {
       "name": "input",
       "opts": {
        "password": false,
        "prompt": "Outfile name?"
       },
       "output_type": "stream",
       "value": "q"
      },
      "1": {
       "name": "input",
       "opts": {
        "password": false,
        "prompt": "How many servers do you want?"
       },
       "output_type": "stream",
       "value": "3"
      },
      "2": {
       "name": "input",
       "opts": {
        "password": false,
        "prompt": "What rate do you want server 1 to work at?"
       },
       "output_type": "stream",
       "value": "10"
      },
      "3": {
       "name": "input",
       "opts": {
        "password": false,
        "prompt": "What rate do you want server 2 to work at?"
       },
       "output_type": "stream",
       "value": "40"
      },
      "4": {
       "name": "input",
       "opts": {
        "password": false,
        "prompt": "What rate do you want server 3 to work at?"
       },
       "output_type": "stream",
       "value": "50"
      }
     }
    },
    "collapsed": false
   },
   "outputs": [
    {
     "name": "stdout",
     "output_type": "stream",
     "text": "Outfile name? q"
    },
    {
     "name": "stdout",
     "output_type": "stream",
     "text": "How many servers do you want? 3"
    },
    {
     "name": "stdout",
     "output_type": "stream",
     "text": "What rate do you want server 1 to work at? 10"
    },
    {
     "name": "stdout",
     "output_type": "stream",
     "text": "What rate do you want server 2 to work at? 40"
    },
    {
     "name": "stdout",
     "output_type": "stream",
     "text": "What rate do you want server 3 to work at? 50"
    },
    {
     "name": "stdout",
     "output_type": "stream",
     "text": [
      "Queue simulation created as a file!\n"
     ]
    }
   ],
   "source": [
    "filename = input(\"Outfile name?\")\n",
    "num_servers = int(input(\"How many servers do you want?\"))\n",
    "server_rates = [0 for i in range(num_servers)]\n",
    "for i in range(num_servers):\n",
    "    server_rates[i] = int(input(f\"What rate do you want server {i+1} to work at?\"))\n",
    "print(\"Queue simulation created as a file!\")\n",
    "simulateShop(filename, num_servers, server_rates)"
   ]
  },
  {
   "cell_type": "code",
   "execution_count": 0,
   "metadata": {
    "collapsed": false
   },
   "outputs": [
   ],
   "source": [
   ]
  },
  {
   "cell_type": "code",
   "execution_count": 0,
   "metadata": {
    "collapsed": false
   },
   "outputs": [
   ],
   "source": [
   ]
  },
  {
   "cell_type": "code",
   "execution_count": 0,
   "metadata": {
    "collapsed": false
   },
   "outputs": [
   ],
   "source": [
   ]
  },
  {
   "cell_type": "code",
   "execution_count": 0,
   "metadata": {
    "collapsed": false
   },
   "outputs": [
   ],
   "source": [
   ]
  }
 ],
 "metadata": {
  "kernelspec": {
   "display_name": "Python 3 (system-wide)",
   "language": "python",
   "metadata": {
    "cocalc": {
     "description": "Python 3 programming language",
     "priority": 100,
     "url": "https://www.python.org/"
    }
   },
   "name": "python3",
   "resource_dir": "/ext/jupyter/kernels/python3"
  },
  "language_info": {
   "codemirror_mode": {
    "name": "ipython",
    "version": 3
   },
   "file_extension": ".py",
   "mimetype": "text/x-python",
   "name": "python",
   "nbconvert_exporter": "python",
   "pygments_lexer": "ipython3",
   "version": "3.8.5"
  },
  "orig_nbformat": 2
 },
 "nbformat": 4,
 "nbformat_minor": 4
}