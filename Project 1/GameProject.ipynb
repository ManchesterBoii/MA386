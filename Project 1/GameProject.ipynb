{
 "cells": [
  {
   "cell_type": "code",
   "execution_count": 3,
   "metadata": {
    "cocalc": {
     "outputs": {
      "0": {
       "name": "input",
       "opts": {
        "password": false,
        "prompt": "What should the next row be ****: "
       },
       "output_type": "stream",
       "value": "rwbk"
      },
      "1": {
       "name": "input",
       "opts": {
        "password": false,
        "prompt": "For the second spot guess either 'r', 'w', 'g', 'k','b','y'"
       },
       "output_type": "stream",
       "value": "r"
      },
      "2": {
       "name": "input",
       "opts": {
        "password": false,
        "prompt": "For the third spot guess either 'r', 'w', 'g', 'k','b','y'"
       },
       "output_type": "stream",
       "value": "r"
      },
      "3": {
       "name": "input",
       "opts": {
        "password": false,
        "prompt": "For the fourth spot guess either 'r', 'w', 'g', 'k','b','y'"
       },
       "output_type": "stream",
       "value": "r"
      }
     }
    },
    "collapsed": false
   },
   "outputs": [
    {
     "name": "stdout",
     "output_type": "stream",
     "text": "What should the next row be ****:  rwbk"
    },
    {
     "name": "stdout",
     "output_type": "stream",
     "text": "For the second spot guess either 'r', 'w', 'g', 'k','b','y' r"
    }
   ],
   "source": [
    "#P1\n",
    "def score_tracker(code, guess):\n",
    "    \"\"\"\n",
    "    Function: The function accepts a list representing the code and a second list that represents the guess. The function checks the inputted code and determines the number of red and white pegs to return to code breaker.\n",
    "    Input: - code: a list of four colors that represent the hidden code\n",
    "           - guess: a list of four colors representing the guess of the player\n",
    "    Output: - score: a list of four characters (red or white) that tell what guesses in \"guess\" were correct and which were not.\n",
    "    \"\"\"\n",
    "   \n",
    "    score = []\n",
    "    seen = []\n",
    "    for i,color in enumerate(guess):\n",
    "        if guess[i]==code[i]:\n",
    "            score.append(\"r\")\n",
    "            seen.append(color)\n",
    "    for i,color in enumerate(guess):\n",
    "        if color in code:\n",
    "            if seen.count(color)<code.count(color) and seen.count(color)<guess.count(color) and guess.count(color)<=code.count(color):\n",
    "                score.append(\"w\")\n",
    "                seen.append(color)\n",
    "    while len(score)<4:\n",
    "        score.append(\"x\")\n",
    "    score = sorted(score[::-1])\n",
    "    for i in range(len(score)):\n",
    "        if score[i] == \"x\":\n",
    "            score[i] = \"\"\n",
    "    return score\n",
    "\n",
    "secret_code = ['b','k','w','w']\n",
    "\n",
    "new_guess = tuple(input(\"What should the next row be ****: \"))\n",
    "score_tracker(secret_code, new_guess)"
   ]
  },
  {
   "cell_type": "code",
   "execution_count": 5,
   "metadata": {
    "collapsed": false
   },
   "outputs": [
    {
     "name": "stdout",
     "output_type": "stream",
     "text": [
      "S E C R E T          C O D E\n",
      "-----------------------------\n",
      "            |   |   |   |   |   \n",
      "            |   |   |   |   |   \n",
      "            |   |   |   |   |   \n",
      "            |   |   |   |   |   \n",
      "            |   |   |   |   |   \n",
      "            |   |   |   |   |   \n",
      "* * * *     |   |   |   |   |   \n",
      "r r y b     | r | r | r | r |   \n",
      "r k g k     | r |   |   |   |   \n",
      "r y y b     | r | r | r |   |   \n",
      "--------------------------------\n"
     ]
    }
   ],
   "source": [
    "#P2\n",
    "def display_game(game_state):\n",
    "    \"\"\"\n",
    "    Function: Given a list of tuples that contain the guesses for the secret code, the function displays the state of the game.\n",
    "    Input: game_state: a list of lists that contain the guesses (up to 10) for the secret code, the first element of the list is the secret code\n",
    "    Output: a printed display of the current state of the game based on the guesses\n",
    "   \n",
    "    \"\"\"\n",
    "    code = game_state[0][:]\n",
    "    game_state = game_state[1:]\n",
    "    print(\"S E C R E T          C O D E\")\n",
    "    print(\"-\"*29)\n",
    "    for i in range(10-len(game_state)-1):\n",
    "        print(f\"{'':12}|{'':3}|{'':3}|{'':3}|{'':3}|{'':3}\")\n",
    "    if len(game_state)<=9:\n",
    "        print(f\"{'* * * *':12}|{'':3}|{'':3}|{'':3}|{'':3}|{'':3}\")\n",
    "    for i in range(-1,-1*len(game_state)-1,-1):\n",
    "        rep = \"\"\n",
    "        for elem in game_state[i]:\n",
    "            rep += elem\n",
    "            rep += ' '\n",
    "        pins = score_tracker(code, game_state[i])\n",
    "        print(f\"{rep:12}|{pins[0]:^3}|{pins[1]:^3}|{pins[2]:^3}|{pins[3]:^3}|{'':3}\")\n",
    "    print(\"-\"*32)\n",
    "    \n",
    "secret_code = ('r','r','y','b')\n",
    "display_game([secret_code,['r','y','y','b'],['r','k','g','k'], ['r','r','y','b']])"
   ]
  },
  {
   "cell_type": "code",
   "execution_count": 6,
   "metadata": {
    "cocalc": {
     "outputs": {
      "1": {
       "name": "input",
       "opts": {
        "password": false,
        "prompt": "What should the next row be ****: "
       },
       "output_type": "stream",
       "value": "rkgy"
      }
     }
    },
    "collapsed": false,
    "scrolled": true
   },
   "outputs": [
    {
     "name": "stdout",
     "output_type": "stream",
     "text": [
      "S E C R E T          C O D E\n",
      "-----------------------------\n",
      "            |   |   |   |   |   \n",
      "            |   |   |   |   |   \n",
      "            |   |   |   |   |   \n",
      "            |   |   |   |   |   \n",
      "            |   |   |   |   |   \n",
      "            |   |   |   |   |   \n",
      "            |   |   |   |   |   \n",
      "* * * *     |   |   |   |   |   \n",
      "r w b b     | r |   |   |   |   \n",
      "b k y w     | r | w |   |   |   \n",
      "--------------------------------\n",
      "Colors = Red(r), Blue(b), black(k), yellow(y), white(w) and green(g)\n",
      "    Enter your guess: (eg rrrr for red, red, red, red) \n"
     ]
    },
    {
     "name": "stdout",
     "output_type": "stream",
     "text": "What should the next row be ****:  rkgy"
    },
    {
     "name": "stdout",
     "output_type": "stream",
     "text": [
      "S E C R E T          C O D E\n",
      "-----------------------------\n",
      "            |   |   |   |   |   \n",
      "            |   |   |   |   |   \n",
      "            |   |   |   |   |   \n",
      "            |   |   |   |   |   \n",
      "            |   |   |   |   |   \n",
      "            |   |   |   |   |   \n",
      "* * * *     |   |   |   |   |   \n",
      "r k g y     | r | r | r | r |   \n",
      "r w b b     | r |   |   |   |   \n",
      "b k y w     | r | w |   |   |   \n",
      "--------------------------------\n"
     ]
    }
   ],
   "source": [
    "#P3\n",
    "def user_input(state_of_game):\n",
    "    \"\"\"\n",
    "    Function: The function accepts the game_state variable and then asks for a guess from the user. The function updates the game_state variable (which contains the secret code as the first list, and all the following lists are the user guesses).\n",
    "    Input: state_of_game: a list of lists contaning information on the current state fo the game \n",
    "    Output: - update: an updated game_state that will allow display_game to show what affect the new guess has had in breaking the secret code.\n",
    "    \"\"\"\n",
    "    colors = [\"r\",\"b\",\"k\",\"y\",\"w\",\"g\"]\n",
    "\n",
    "    if len(state_of_game[1:]) >= 10:\n",
    "        raise ValueError(\"Too Many Guesses: Guess Game Over\")\n",
    "    print('''Colors = Red(r), Blue(b), black(k), yellow(y), white(w) and green(g)\n",
    "    Enter your guess: (eg rrrr for red, red, red, red) ''')\n",
    "    new_guess = tuple(input(\"What should the next row be ****: \"))\n",
    "    if len(new_guess) != 4:\n",
    "        raise IndexError(\"Try again: Make sure to select at most 4 colors\")\n",
    "    for char in new_guess:\n",
    "        if char not in colors:\n",
    "            raise NameError(\"Incorrect Input Try again \")\n",
    "    state_of_game.append(new_guess)\n",
    "    return state_of_game\n",
    "\n",
    "\n",
    "secret_code = ('r','k','g','y')\n",
    "display_game([secret_code,('b','k','y','w'),('r','w','b','b')])\n",
    "gamestate = user_input([secret_code,('b','k','y','w'),('r','w','b','b')])\n",
    "display_game(gamestate)"
   ]
  },
  {
   "cell_type": "code",
   "execution_count": 8,
   "metadata": {
    "collapsed": false
   },
   "outputs": [
    {
     "data": {
      "text/plain": [
       "('b', 'k', 'w', 'w')"
      ]
     },
     "execution_count": 8,
     "metadata": {
     },
     "output_type": "execute_result"
    }
   ],
   "source": [
    "#P4\n",
    "\n",
    "def computer_random_choice():\n",
    "    '''\n",
    "    Function: The function randomly selects a random combination (with replacement) of 4 out of 6 colors and returns those colors as a list.\n",
    "    Input: None\n",
    "    Output: a list of length four containing four colors to be a secret code\n",
    "    '''\n",
    "    from itertools import combinations_with_replacement\n",
    "    import random\n",
    "    colors = [\"r\",\"b\",\"k\",\"y\",\"w\",\"g\"]\n",
    "    secrets = combinations_with_replacement(colors, 4)\n",
    "    return random.choice(list(secrets))\n",
    "\n",
    "computer_random_choice()"
   ]
  },
  {
   "cell_type": "code",
   "execution_count": 9,
   "metadata": {
    "cocalc": {
     "outputs": {
      "1": {
       "name": "input",
       "opts": {
        "password": false,
        "prompt": "What should the next row be ****: "
       },
       "output_type": "stream",
       "value": "rrrr"
      },
      "10": {
       "name": "input",
       "opts": {
        "password": false,
        "prompt": "What should the next row be ****: "
       },
       "output_type": "stream"
      },
      "11": {
       "name": "input",
       "opts": {
        "password": false,
        "prompt": "What should the next row be ****: "
       },
       "output_type": "stream",
       "value": "rrrr"
      },
      "12": {
       "name": "input",
       "opts": {
        "password": false,
        "prompt": "What should the next row be ****: "
       },
       "output_type": "stream"
      },
      "13": {
       "name": "input",
       "opts": {
        "password": false,
        "prompt": "What should the next row be ****: "
       },
       "output_type": "stream",
       "value": "eeee"
      },
      "15": {
       "name": "input",
       "opts": {
        "password": false,
        "prompt": "What should the next row be ****: "
       },
       "output_type": "stream",
       "value": "rrrr"
      },
      "16": {
       "name": "input",
       "opts": {
        "password": false,
        "prompt": "What should the next row be ****: "
       },
       "output_type": "stream"
      },
      "17": {
       "name": "input",
       "opts": {
        "password": false,
        "prompt": "What should the next row be ****: "
       },
       "output_type": "stream",
       "value": "rrrr"
      },
      "18": {
       "name": "input",
       "opts": {
        "password": false,
        "prompt": "What should the next row be ****: "
       },
       "output_type": "stream"
      },
      "19": {
       "name": "input",
       "opts": {
        "password": false,
        "prompt": "What should the next row be ****: "
       },
       "output_type": "stream",
       "value": "yyyy"
      },
      "2": {
       "name": "input",
       "opts": {
        "password": false,
        "prompt": "What should the next row be ****: "
       },
       "output_type": "stream"
      },
      "21": {
       "name": "input",
       "opts": {
        "password": false,
        "prompt": "What should the next row be ****: "
       },
       "output_type": "stream",
       "value": "wyww"
      },
      "23": {
       "name": "input",
       "opts": {
        "password": false,
        "prompt": "What should the next row be ****: "
       },
       "output_type": "stream",
       "value": "wyww"
      },
      "3": {
       "name": "input",
       "opts": {
        "password": false,
        "prompt": "What should the next row be ****: "
       },
       "output_type": "stream",
       "value": "rrrw"
      },
      "4": {
       "name": "input",
       "opts": {
        "password": false,
        "prompt": "What should the next row be ****: "
       },
       "output_type": "stream"
      },
      "5": {
       "name": "input",
       "opts": {
        "password": false,
        "prompt": "What should the next row be ****: "
       },
       "output_type": "stream",
       "value": "rbwk"
      },
      "7": {
       "name": "input",
       "opts": {
        "password": false,
        "prompt": "What should the next row be ****: "
       },
       "output_type": "stream",
       "value": "rkwb"
      },
      "9": {
       "name": "input",
       "opts": {
        "password": false,
        "prompt": "What should the next row be ****: "
       },
       "output_type": "stream",
       "value": "rrrr"
      }
     }
    },
    "collapsed": false
   },
   "outputs": [
    {
     "name": "stdout",
     "output_type": "stream",
     "text": [
      "S E C R E T          C O D E\n",
      "-----------------------------\n",
      "            |   |   |   |   |   \n",
      "            |   |   |   |   |   \n",
      "            |   |   |   |   |   \n",
      "            |   |   |   |   |   \n",
      "            |   |   |   |   |   \n",
      "            |   |   |   |   |   \n",
      "            |   |   |   |   |   \n",
      "            |   |   |   |   |   \n",
      "            |   |   |   |   |   \n",
      "* * * *     |   |   |   |   |   \n",
      "--------------------------------\n",
      "Colors = Red(r), Blue(b), black(k), yellow(y), white(w) and green(g)\n",
      "    Enter your guess: (eg rrrr for red, red, red, red) \n"
     ]
    },
    {
     "name": "stdout",
     "output_type": "stream",
     "text": "What should the next row be ****:  rrrr"
    },
    {
     "name": "stdout",
     "output_type": "stream",
     "text": "What should the next row be ****:  "
    },
    {
     "name": "stdout",
     "output_type": "stream",
     "text": "What should the next row be ****:  rrrw"
    },
    {
     "name": "stdout",
     "output_type": "stream",
     "text": "What should the next row be ****:  "
    },
    {
     "name": "stdout",
     "output_type": "stream",
     "text": "What should the next row be ****:  rbwk"
    },
    {
     "name": "stdout",
     "output_type": "stream",
     "text": [
      "S E C R E T          C O D E\n",
      "-----------------------------\n",
      "            |   |   |   |   |   \n",
      "            |   |   |   |   |   \n",
      "            |   |   |   |   |   \n",
      "            |   |   |   |   |   \n",
      "            |   |   |   |   |   \n",
      "            |   |   |   |   |   \n",
      "* * * *     |   |   |   |   |   \n",
      "r r r b     | r | r | r | r |   \n",
      "r r r w     | r | r | r |   |   \n",
      "r r r r     | r | r | r |   |   \n",
      "--------------------------------\n",
      "CODE: ('r', 'r', 'r', 'b') \n",
      "\n",
      "Congratulations, you have some form of minor intelligence in being able to break a four digit code. The FBI wants you to work for them to break into Apple phones.\n",
      "The correct code was ('r', 'r', 'r', 'b').\n"
     ]
    }
   ],
   "source": [
    "#P5\n",
    "def game():\n",
    "    \"\"\"\n",
    "    Function: This function uses a combination of the previous four functions in order to initiate and play the mastermind game.\n",
    "    Input: None\n",
    "    Output: A recurring printed update of the game as the player tries to guess the secret code over the course of 10 guesses.\n",
    "    \"\"\"\n",
    "    secret_code = computer_random_choice()\n",
    "    #made secret code\n",
    "    game_state = [] \n",
    "    #game_state: contains secret code and then will have guesses appended to it in the form [(secret_code),(guess1),(guess2),etc]\n",
    "    game_state.append(secret_code)\n",
    "    game_over = False \n",
    "    while not(game_over):\n",
    "        try:\n",
    "            display_game(game_state)\n",
    "            #display the game\n",
    "            game_state= user_input(game_state)\n",
    "            #get guess from user\n",
    "            if score_tracker(secret_code,game_state[-1]) == [\"r\",\"r\",\"r\",\"r\"]:\n",
    "                display_game(game_state)\n",
    "                game_over= True \n",
    "                print(f\"CODE: {secret_code} \\n\")\n",
    "                print(f\"Congratulations, you have some form of minor intelligence in being able to break a four digit code. The FBI wants you to work for them to break into Apple phones.\")\n",
    "        except ValueError as e:\n",
    "            print(e,\"\\n\")\n",
    "            game_over= True\n",
    "        except NameError as v:\n",
    "            print(v,\"\\n\")\n",
    "            print(f\"CODE: {secret_code} \")\n",
    "        except IndexError as i:\n",
    "            print(i,\"\\n\")\n",
    "            continue\n",
    "    print(f\"The correct code was {secret_code}.\")\n",
    "          \n",
    "game()"
   ]
  },
  {
   "cell_type": "code",
   "execution_count": 11,
   "metadata": {
    "collapsed": false,
    "scrolled": true
   },
   "outputs": [
    {
     "ename": "NameError",
     "evalue": "name 'random' is not defined",
     "output_type": "error",
     "traceback": [
      "\u001b[0;31m---------------------------------------------------------------------------\u001b[0m",
      "\u001b[0;31mNameError\u001b[0m                                 Traceback (most recent call last)",
      "\u001b[0;32m<ipython-input-11-dd9d3e564121>\u001b[0m in \u001b[0;36m<module>\u001b[0;34m\u001b[0m\n\u001b[1;32m     47\u001b[0m \u001b[0mwin\u001b[0m \u001b[0;34m=\u001b[0m \u001b[0;34m[\u001b[0m\u001b[0;34m]\u001b[0m\u001b[0;34m\u001b[0m\u001b[0;34m\u001b[0m\u001b[0m\n\u001b[1;32m     48\u001b[0m \u001b[0;32mfor\u001b[0m \u001b[0mcode\u001b[0m \u001b[0;32min\u001b[0m \u001b[0mcodes\u001b[0m\u001b[0;34m:\u001b[0m\u001b[0;34m\u001b[0m\u001b[0;34m\u001b[0m\u001b[0m\n\u001b[0;32m---> 49\u001b[0;31m     \u001b[0mresult\u001b[0m \u001b[0;34m=\u001b[0m \u001b[0mcomputer_player\u001b[0m\u001b[0;34m(\u001b[0m\u001b[0mcode\u001b[0m\u001b[0;34m)\u001b[0m\u001b[0;34m\u001b[0m\u001b[0;34m\u001b[0m\u001b[0m\n\u001b[0m\u001b[1;32m     50\u001b[0m     \u001b[0;32mif\u001b[0m \u001b[0mlen\u001b[0m\u001b[0;34m(\u001b[0m\u001b[0mresult\u001b[0m\u001b[0;34m)\u001b[0m \u001b[0;34m==\u001b[0m \u001b[0;36m11\u001b[0m\u001b[0;34m:\u001b[0m\u001b[0;34m\u001b[0m\u001b[0;34m\u001b[0m\u001b[0m\n\u001b[1;32m     51\u001b[0m         \u001b[0mwin\u001b[0m\u001b[0;34m.\u001b[0m\u001b[0mappend\u001b[0m\u001b[0;34m(\u001b[0m\u001b[0;36m0\u001b[0m\u001b[0;34m)\u001b[0m\u001b[0;34m\u001b[0m\u001b[0;34m\u001b[0m\u001b[0m\n",
      "\u001b[0;32m<ipython-input-11-dd9d3e564121>\u001b[0m in \u001b[0;36mcomputer_player\u001b[0;34m(code)\u001b[0m\n\u001b[1;32m     34\u001b[0m     \u001b[0mguess\u001b[0m \u001b[0;34m=\u001b[0m \u001b[0;34m[\u001b[0m\u001b[0;34m\"\"\u001b[0m\u001b[0;34m,\u001b[0m \u001b[0;34m\"\"\u001b[0m\u001b[0;34m,\u001b[0m \u001b[0;34m\"\"\u001b[0m\u001b[0;34m,\u001b[0m \u001b[0;34m\"\"\u001b[0m\u001b[0;34m]\u001b[0m\u001b[0;34m\u001b[0m\u001b[0;34m\u001b[0m\u001b[0m\n\u001b[1;32m     35\u001b[0m     \u001b[0;32mwhile\u001b[0m \u001b[0;32mnot\u001b[0m\u001b[0;34m(\u001b[0m\u001b[0mgame_over\u001b[0m\u001b[0;34m)\u001b[0m\u001b[0;34m:\u001b[0m\u001b[0;34m\u001b[0m\u001b[0;34m\u001b[0m\u001b[0m\n\u001b[0;32m---> 36\u001b[0;31m         \u001b[0mguess\u001b[0m \u001b[0;34m=\u001b[0m \u001b[0mcomputer_informed_choice\u001b[0m\u001b[0;34m(\u001b[0m\u001b[0mguess\u001b[0m\u001b[0;34m,\u001b[0m \u001b[0mcode\u001b[0m\u001b[0;34m)\u001b[0m\u001b[0;34m\u001b[0m\u001b[0;34m\u001b[0m\u001b[0m\n\u001b[0m\u001b[1;32m     37\u001b[0m         \u001b[0mgame_state\u001b[0m\u001b[0;34m.\u001b[0m\u001b[0mappend\u001b[0m\u001b[0;34m(\u001b[0m\u001b[0mguess\u001b[0m\u001b[0;34m)\u001b[0m\u001b[0;34m\u001b[0m\u001b[0;34m\u001b[0m\u001b[0m\n\u001b[1;32m     38\u001b[0m         \u001b[0;32mif\u001b[0m \u001b[0mscore_tracker\u001b[0m\u001b[0;34m(\u001b[0m\u001b[0mcode\u001b[0m\u001b[0;34m,\u001b[0m\u001b[0mguess\u001b[0m\u001b[0;34m)\u001b[0m \u001b[0;34m==\u001b[0m \u001b[0;34m[\u001b[0m\u001b[0;34m\"r\"\u001b[0m\u001b[0;34m,\u001b[0m\u001b[0;34m\"r\"\u001b[0m\u001b[0;34m,\u001b[0m\u001b[0;34m\"r\"\u001b[0m\u001b[0;34m,\u001b[0m\u001b[0;34m\"r\"\u001b[0m\u001b[0;34m]\u001b[0m\u001b[0;34m:\u001b[0m\u001b[0;34m\u001b[0m\u001b[0;34m\u001b[0m\u001b[0m\n",
      "\u001b[0;32m<ipython-input-11-dd9d3e564121>\u001b[0m in \u001b[0;36mcomputer_informed_choice\u001b[0;34m(guess, code)\u001b[0m\n\u001b[1;32m     15\u001b[0m         \u001b[0mguess\u001b[0m \u001b[0;34m=\u001b[0m \u001b[0mcomputer_random_choice\u001b[0m\u001b[0;34m(\u001b[0m\u001b[0;34m)\u001b[0m\u001b[0;34m\u001b[0m\u001b[0;34m\u001b[0m\u001b[0m\n\u001b[1;32m     16\u001b[0m     \u001b[0;32melif\u001b[0m \u001b[0mscore_tracker\u001b[0m\u001b[0;34m(\u001b[0m\u001b[0mcode\u001b[0m\u001b[0;34m,\u001b[0m\u001b[0mguess\u001b[0m\u001b[0;34m)\u001b[0m \u001b[0;34m==\u001b[0m \u001b[0;34m[\u001b[0m\u001b[0;34m\"\"\u001b[0m\u001b[0;34m,\u001b[0m \u001b[0;34m\"\"\u001b[0m\u001b[0;34m,\u001b[0m \u001b[0;34m\"\"\u001b[0m\u001b[0;34m,\u001b[0m \u001b[0;34m\"\"\u001b[0m\u001b[0;34m]\u001b[0m\u001b[0;34m:\u001b[0m\u001b[0;34m\u001b[0m\u001b[0;34m\u001b[0m\u001b[0m\n\u001b[0;32m---> 17\u001b[0;31m         \u001b[0mnew_guess\u001b[0m \u001b[0;34m=\u001b[0m \u001b[0;34m[\u001b[0m\u001b[0mrandom\u001b[0m\u001b[0;34m.\u001b[0m\u001b[0mchoice\u001b[0m\u001b[0;34m(\u001b[0m\u001b[0mcolors\u001b[0m\u001b[0;34m)\u001b[0m \u001b[0;32mfor\u001b[0m \u001b[0mi\u001b[0m \u001b[0;32min\u001b[0m \u001b[0mrange\u001b[0m\u001b[0;34m(\u001b[0m\u001b[0;36m4\u001b[0m\u001b[0;34m)\u001b[0m\u001b[0;34m]\u001b[0m\u001b[0;34m\u001b[0m\u001b[0;34m\u001b[0m\u001b[0m\n\u001b[0m\u001b[1;32m     18\u001b[0m         \u001b[0;32mfor\u001b[0m \u001b[0mi\u001b[0m \u001b[0;32min\u001b[0m \u001b[0mrange\u001b[0m\u001b[0;34m(\u001b[0m\u001b[0mlen\u001b[0m\u001b[0;34m(\u001b[0m\u001b[0mnew_guess\u001b[0m\u001b[0;34m)\u001b[0m\u001b[0;34m)\u001b[0m\u001b[0;34m:\u001b[0m\u001b[0;34m\u001b[0m\u001b[0;34m\u001b[0m\u001b[0m\n\u001b[1;32m     19\u001b[0m             \u001b[0;32mwhile\u001b[0m\u001b[0;34m(\u001b[0m\u001b[0mnew_guess\u001b[0m\u001b[0;34m[\u001b[0m\u001b[0mi\u001b[0m\u001b[0;34m]\u001b[0m \u001b[0;32mnot\u001b[0m \u001b[0;32min\u001b[0m \u001b[0mguess\u001b[0m\u001b[0;34m)\u001b[0m\u001b[0;34m:\u001b[0m\u001b[0;34m\u001b[0m\u001b[0;34m\u001b[0m\u001b[0m\n",
      "\u001b[0;32m<ipython-input-11-dd9d3e564121>\u001b[0m in \u001b[0;36m<listcomp>\u001b[0;34m(.0)\u001b[0m\n\u001b[1;32m     15\u001b[0m         \u001b[0mguess\u001b[0m \u001b[0;34m=\u001b[0m \u001b[0mcomputer_random_choice\u001b[0m\u001b[0;34m(\u001b[0m\u001b[0;34m)\u001b[0m\u001b[0;34m\u001b[0m\u001b[0;34m\u001b[0m\u001b[0m\n\u001b[1;32m     16\u001b[0m     \u001b[0;32melif\u001b[0m \u001b[0mscore_tracker\u001b[0m\u001b[0;34m(\u001b[0m\u001b[0mcode\u001b[0m\u001b[0;34m,\u001b[0m\u001b[0mguess\u001b[0m\u001b[0;34m)\u001b[0m \u001b[0;34m==\u001b[0m \u001b[0;34m[\u001b[0m\u001b[0;34m\"\"\u001b[0m\u001b[0;34m,\u001b[0m \u001b[0;34m\"\"\u001b[0m\u001b[0;34m,\u001b[0m \u001b[0;34m\"\"\u001b[0m\u001b[0;34m,\u001b[0m \u001b[0;34m\"\"\u001b[0m\u001b[0;34m]\u001b[0m\u001b[0;34m:\u001b[0m\u001b[0;34m\u001b[0m\u001b[0;34m\u001b[0m\u001b[0m\n\u001b[0;32m---> 17\u001b[0;31m         \u001b[0mnew_guess\u001b[0m \u001b[0;34m=\u001b[0m \u001b[0;34m[\u001b[0m\u001b[0mrandom\u001b[0m\u001b[0;34m.\u001b[0m\u001b[0mchoice\u001b[0m\u001b[0;34m(\u001b[0m\u001b[0mcolors\u001b[0m\u001b[0;34m)\u001b[0m \u001b[0;32mfor\u001b[0m \u001b[0mi\u001b[0m \u001b[0;32min\u001b[0m \u001b[0mrange\u001b[0m\u001b[0;34m(\u001b[0m\u001b[0;36m4\u001b[0m\u001b[0;34m)\u001b[0m\u001b[0;34m]\u001b[0m\u001b[0;34m\u001b[0m\u001b[0;34m\u001b[0m\u001b[0m\n\u001b[0m\u001b[1;32m     18\u001b[0m         \u001b[0;32mfor\u001b[0m \u001b[0mi\u001b[0m \u001b[0;32min\u001b[0m \u001b[0mrange\u001b[0m\u001b[0;34m(\u001b[0m\u001b[0mlen\u001b[0m\u001b[0;34m(\u001b[0m\u001b[0mnew_guess\u001b[0m\u001b[0;34m)\u001b[0m\u001b[0;34m)\u001b[0m\u001b[0;34m:\u001b[0m\u001b[0;34m\u001b[0m\u001b[0;34m\u001b[0m\u001b[0m\n\u001b[1;32m     19\u001b[0m             \u001b[0;32mwhile\u001b[0m\u001b[0;34m(\u001b[0m\u001b[0mnew_guess\u001b[0m\u001b[0;34m[\u001b[0m\u001b[0mi\u001b[0m\u001b[0;34m]\u001b[0m \u001b[0;32mnot\u001b[0m \u001b[0;32min\u001b[0m \u001b[0mguess\u001b[0m\u001b[0;34m)\u001b[0m\u001b[0;34m:\u001b[0m\u001b[0;34m\u001b[0m\u001b[0;34m\u001b[0m\u001b[0m\n",
      "\u001b[0;31mNameError\u001b[0m: name 'random' is not defined"
     ]
    }
   ],
   "source": [
    "#P6\n",
    "from timeSeries import readcsv\n",
    "\n",
    "def computer_informed_choice(guess, code):\n",
    "    '''\n",
    "    Function: The function randomly selects a random combination (with replacement) of 4 out of 6 colors and returns those colors as a list.\n",
    "    Input: Guess, used to make more informed guess; code, used to evaluate guess\n",
    "    Output: a list of length four containing four colors to be a secret code\n",
    "   \n",
    "    from itertools import combinations_with_replacement\n",
    "    import random\n",
    "    '''\n",
    "    colors = [\"r\",\"b\",\"k\",\"y\",\"w\",\"g\"]\n",
    "    if guess == [\"\", \"\", \"\", \"\"]:\n",
    "        guess = computer_random_choice()\n",
    "    elif score_tracker(code,guess) == [\"\", \"\", \"\", \"\"]:\n",
    "        new_guess = [random.choice(colors) for i in range(4)]\n",
    "        for i in range(len(new_guess)):\n",
    "            while(new_guess[i] not in guess):\n",
    "                new_guess[i] = random.choice(colors)\n",
    "        guess = new_guess\n",
    "    elif score_tracker(code,guess) in [[\"w\", \"w\", \"w\", \"w\"],  ['r', 'r', 'w', 'w']]:\n",
    "        random.shuffle(guess)\n",
    "    return guess\n",
    "\n",
    "def computer_player(code):\n",
    "    '''\n",
    "    This function is the computer playing mastermind itself.\n",
    "    Inputs: Secret code\n",
    "    Outputs: list including secret code at index 0 followed by all guesses\n",
    "    '''\n",
    "    game_state = []\n",
    "    game_over = False\n",
    "    guess = [\"\", \"\", \"\", \"\"]\n",
    "    while not(game_over):\n",
    "        guess = computer_informed_choice(guess, code)\n",
    "        game_state.append(guess)\n",
    "        if score_tracker(code,guess) == [\"r\",\"r\",\"r\",\"r\"]:\n",
    "            game_over = True\n",
    "        if len(game_state) > 10:\n",
    "            game_over = True\n",
    "    return game_state\n",
    "    \n",
    "\n",
    "codes = readcsv(\"codes\")\n",
    "num_guesses = []\n",
    "win = []\n",
    "for code in codes:\n",
    "    result = computer_player(code) \n",
    "    if len(result) == 11:\n",
    "        win.append(0)\n",
    "    else:\n",
    "        win.append(1)\n",
    "    num_guesses.append(len(result)-1)\n",
    "total_games = len(num_guesses)\n",
    "total_wins = sum(win)\n",
    "total_guesses = sum(num_guesses)\n",
    "print(f\"Our program won {100*total_wins/total_games:.2f}% of the time, taking an average of {total_guesses/total_games:.2f} guesses per attempt.\")"
   ]
  },
  {
   "cell_type": "code",
   "execution_count": 0,
   "metadata": {
    "collapsed": false
   },
   "outputs": [
   ],
   "source": [
   ]
  }
 ],
 "metadata": {
  "kernelspec": {
   "display_name": "Python 3 (system-wide)",
   "language": "python",
   "metadata": {
    "cocalc": {
     "description": "Python 3 programming language",
     "priority": 100,
     "url": "https://www.python.org/"
    }
   },
   "name": "python3",
   "resource_dir": "/ext/jupyter/kernels/python3"
  },
  "language_info": {
   "codemirror_mode": {
    "name": "ipython",
    "version": 3
   },
   "file_extension": ".py",
   "mimetype": "text/x-python",
   "name": "python",
   "nbconvert_exporter": "python",
   "pygments_lexer": "ipython3",
   "version": "3.8.2"
  }
 },
 "nbformat": 4,
 "nbformat_minor": 4
}